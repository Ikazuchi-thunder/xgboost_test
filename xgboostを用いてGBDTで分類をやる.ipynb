{
 "cells": [
  {
   "cell_type": "markdown",
   "metadata": {},
   "source": [
    "# xgboostを用いてGBDTで分類をやる\n",
    "\n",
    "GBDT(Gradient Boosting Decision Tree)は、勾配ブースティングの弱学習器を決定木にしたものである。  \n",
    "決定木を逐次的に（=直前までにできた決定木の情報を全て利用して）構築していくことで、（NN等と比べてお手軽に）高い精度での分類ができることで人気である。\n",
    "\n",
    "データセットは、Kaggleから  \n",
    "https://www.kaggle.com/joniarroba/noshowappointments/data  \n",
    "を用いる。  \n",
    "これは受診予約のデータセットであり、患者の年齢や性別のほか、予約に現れたかどうかなどが入っている。  \n",
    "今回は、予約に現れたかどうかを目的変数として分類を行う。"
   ]
  },
  {
   "cell_type": "code",
   "execution_count": null,
   "metadata": {},
   "outputs": [],
   "source": [
    "%matplotlib inline\n",
    "\n",
    "from datetime import datetime as dt\n",
    "import matplotlib.pyplot as pyplot\n",
    "\n",
    "import numpy as np\n",
    "import scipy as sp\n",
    "import pandas as pd\n",
    "import xgboost as xgb\n",
    "from sklearn.model_selection import train_test_split\n",
    "from sklearn.metrics import confusion_matrix, classification_report, f1_score\n",
    "from sklearn.grid_search import RandomizedSearchCV\n",
    "\n",
    "import seaborn"
   ]
  },
  {
   "cell_type": "code",
   "execution_count": 2,
   "metadata": {
    "collapsed": true
   },
   "outputs": [],
   "source": [
    "origin_df = pd.read_csv('KaggleV2-May-2016.csv')"
   ]
  },
  {
   "cell_type": "markdown",
   "metadata": {},
   "source": [
    "## データの様子を見る"
   ]
  },
  {
   "cell_type": "code",
   "execution_count": 3,
   "metadata": {},
   "outputs": [
    {
     "data": {
      "text/html": [
       "<div>\n",
       "<style scoped>\n",
       "    .dataframe tbody tr th:only-of-type {\n",
       "        vertical-align: middle;\n",
       "    }\n",
       "\n",
       "    .dataframe tbody tr th {\n",
       "        vertical-align: top;\n",
       "    }\n",
       "\n",
       "    .dataframe thead th {\n",
       "        text-align: right;\n",
       "    }\n",
       "</style>\n",
       "<table border=\"1\" class=\"dataframe\">\n",
       "  <thead>\n",
       "    <tr style=\"text-align: right;\">\n",
       "      <th></th>\n",
       "      <th>PatientId</th>\n",
       "      <th>AppointmentID</th>\n",
       "      <th>Gender</th>\n",
       "      <th>ScheduledDay</th>\n",
       "      <th>AppointmentDay</th>\n",
       "      <th>Age</th>\n",
       "      <th>Neighbourhood</th>\n",
       "      <th>Scholarship</th>\n",
       "      <th>Hipertension</th>\n",
       "      <th>Diabetes</th>\n",
       "      <th>Alcoholism</th>\n",
       "      <th>Handcap</th>\n",
       "      <th>SMS_received</th>\n",
       "      <th>No-show</th>\n",
       "    </tr>\n",
       "  </thead>\n",
       "  <tbody>\n",
       "    <tr>\n",
       "      <th>0</th>\n",
       "      <td>2.987250e+13</td>\n",
       "      <td>5642903</td>\n",
       "      <td>F</td>\n",
       "      <td>2016-04-29T18:38:08Z</td>\n",
       "      <td>2016-04-29T00:00:00Z</td>\n",
       "      <td>62</td>\n",
       "      <td>JARDIM DA PENHA</td>\n",
       "      <td>0</td>\n",
       "      <td>1</td>\n",
       "      <td>0</td>\n",
       "      <td>0</td>\n",
       "      <td>0</td>\n",
       "      <td>0</td>\n",
       "      <td>No</td>\n",
       "    </tr>\n",
       "    <tr>\n",
       "      <th>1</th>\n",
       "      <td>5.589978e+14</td>\n",
       "      <td>5642503</td>\n",
       "      <td>M</td>\n",
       "      <td>2016-04-29T16:08:27Z</td>\n",
       "      <td>2016-04-29T00:00:00Z</td>\n",
       "      <td>56</td>\n",
       "      <td>JARDIM DA PENHA</td>\n",
       "      <td>0</td>\n",
       "      <td>0</td>\n",
       "      <td>0</td>\n",
       "      <td>0</td>\n",
       "      <td>0</td>\n",
       "      <td>0</td>\n",
       "      <td>No</td>\n",
       "    </tr>\n",
       "    <tr>\n",
       "      <th>2</th>\n",
       "      <td>4.262962e+12</td>\n",
       "      <td>5642549</td>\n",
       "      <td>F</td>\n",
       "      <td>2016-04-29T16:19:04Z</td>\n",
       "      <td>2016-04-29T00:00:00Z</td>\n",
       "      <td>62</td>\n",
       "      <td>MATA DA PRAIA</td>\n",
       "      <td>0</td>\n",
       "      <td>0</td>\n",
       "      <td>0</td>\n",
       "      <td>0</td>\n",
       "      <td>0</td>\n",
       "      <td>0</td>\n",
       "      <td>No</td>\n",
       "    </tr>\n",
       "    <tr>\n",
       "      <th>3</th>\n",
       "      <td>8.679512e+11</td>\n",
       "      <td>5642828</td>\n",
       "      <td>F</td>\n",
       "      <td>2016-04-29T17:29:31Z</td>\n",
       "      <td>2016-04-29T00:00:00Z</td>\n",
       "      <td>8</td>\n",
       "      <td>PONTAL DE CAMBURI</td>\n",
       "      <td>0</td>\n",
       "      <td>0</td>\n",
       "      <td>0</td>\n",
       "      <td>0</td>\n",
       "      <td>0</td>\n",
       "      <td>0</td>\n",
       "      <td>No</td>\n",
       "    </tr>\n",
       "    <tr>\n",
       "      <th>4</th>\n",
       "      <td>8.841186e+12</td>\n",
       "      <td>5642494</td>\n",
       "      <td>F</td>\n",
       "      <td>2016-04-29T16:07:23Z</td>\n",
       "      <td>2016-04-29T00:00:00Z</td>\n",
       "      <td>56</td>\n",
       "      <td>JARDIM DA PENHA</td>\n",
       "      <td>0</td>\n",
       "      <td>1</td>\n",
       "      <td>1</td>\n",
       "      <td>0</td>\n",
       "      <td>0</td>\n",
       "      <td>0</td>\n",
       "      <td>No</td>\n",
       "    </tr>\n",
       "    <tr>\n",
       "      <th>5</th>\n",
       "      <td>9.598513e+13</td>\n",
       "      <td>5626772</td>\n",
       "      <td>F</td>\n",
       "      <td>2016-04-27T08:36:51Z</td>\n",
       "      <td>2016-04-29T00:00:00Z</td>\n",
       "      <td>76</td>\n",
       "      <td>REPÚBLICA</td>\n",
       "      <td>0</td>\n",
       "      <td>1</td>\n",
       "      <td>0</td>\n",
       "      <td>0</td>\n",
       "      <td>0</td>\n",
       "      <td>0</td>\n",
       "      <td>No</td>\n",
       "    </tr>\n",
       "  </tbody>\n",
       "</table>\n",
       "</div>"
      ],
      "text/plain": [
       "      PatientId  AppointmentID Gender          ScheduledDay  \\\n",
       "0  2.987250e+13        5642903      F  2016-04-29T18:38:08Z   \n",
       "1  5.589978e+14        5642503      M  2016-04-29T16:08:27Z   \n",
       "2  4.262962e+12        5642549      F  2016-04-29T16:19:04Z   \n",
       "3  8.679512e+11        5642828      F  2016-04-29T17:29:31Z   \n",
       "4  8.841186e+12        5642494      F  2016-04-29T16:07:23Z   \n",
       "5  9.598513e+13        5626772      F  2016-04-27T08:36:51Z   \n",
       "\n",
       "         AppointmentDay  Age      Neighbourhood  Scholarship  Hipertension  \\\n",
       "0  2016-04-29T00:00:00Z   62    JARDIM DA PENHA            0             1   \n",
       "1  2016-04-29T00:00:00Z   56    JARDIM DA PENHA            0             0   \n",
       "2  2016-04-29T00:00:00Z   62      MATA DA PRAIA            0             0   \n",
       "3  2016-04-29T00:00:00Z    8  PONTAL DE CAMBURI            0             0   \n",
       "4  2016-04-29T00:00:00Z   56    JARDIM DA PENHA            0             1   \n",
       "5  2016-04-29T00:00:00Z   76          REPÚBLICA            0             1   \n",
       "\n",
       "   Diabetes  Alcoholism  Handcap  SMS_received No-show  \n",
       "0         0           0        0             0      No  \n",
       "1         0           0        0             0      No  \n",
       "2         0           0        0             0      No  \n",
       "3         0           0        0             0      No  \n",
       "4         1           0        0             0      No  \n",
       "5         0           0        0             0      No  "
      ]
     },
     "execution_count": 3,
     "metadata": {},
     "output_type": "execute_result"
    }
   ],
   "source": [
    "origin_df.head(6)"
   ]
  },
  {
   "cell_type": "code",
   "execution_count": 4,
   "metadata": {},
   "outputs": [
    {
     "data": {
      "text/plain": [
       "No     88208\n",
       "Yes    22319\n",
       "Name: No-show, dtype: int64"
      ]
     },
     "execution_count": 4,
     "metadata": {},
     "output_type": "execute_result"
    }
   ],
   "source": [
    "origin_df['No-show'].value_counts()"
   ]
  },
  {
   "cell_type": "markdown",
   "metadata": {},
   "source": [
    "だいたい8:2くらい"
   ]
  },
  {
   "cell_type": "code",
   "execution_count": 5,
   "metadata": {},
   "outputs": [
    {
     "data": {
      "text/plain": [
       "array([[<matplotlib.axes._subplots.AxesSubplot object at 0x1106fb5f8>,\n",
       "        <matplotlib.axes._subplots.AxesSubplot object at 0x104bb4c18>,\n",
       "        <matplotlib.axes._subplots.AxesSubplot object at 0x10596e748>],\n",
       "       [<matplotlib.axes._subplots.AxesSubplot object at 0x104bcee80>,\n",
       "        <matplotlib.axes._subplots.AxesSubplot object at 0x109072518>,\n",
       "        <matplotlib.axes._subplots.AxesSubplot object at 0x109072550>],\n",
       "       [<matplotlib.axes._subplots.AxesSubplot object at 0x10d0e4da0>,\n",
       "        <matplotlib.axes._subplots.AxesSubplot object at 0x10cd8b6d8>,\n",
       "        <matplotlib.axes._subplots.AxesSubplot object at 0x10d1ae780>]],\n",
       "      dtype=object)"
      ]
     },
     "execution_count": 5,
     "metadata": {},
     "output_type": "execute_result"
    },
    {
     "data": {
      "image/png": "[encoded data removed]",
      "text/plain": [
       "<matplotlib.figure.Figure at 0x1106fb9e8>"
      ]
     },
     "metadata": {},
     "output_type": "display_data"
    }
   ],
   "source": [
    "origin_df.hist(figsize=(12, 12))"
   ]
  },
  {
   "cell_type": "markdown",
   "metadata": {},
   "source": [
    "`age`に負の値があったり、`Handcap`に4があったりして怪しい"
   ]
  },
  {
   "cell_type": "markdown",
   "metadata": {},
   "source": [
    "## データ整形"
   ]
  },
  {
   "cell_type": "code",
   "execution_count": 6,
   "metadata": {
    "collapsed": true
   },
   "outputs": [],
   "source": [
    "df = pd.DataFrame()"
   ]
  },
  {
   "cell_type": "markdown",
   "metadata": {},
   "source": [
    "予約ぶっちしたら1ということにする"
   ]
  },
  {
   "cell_type": "code",
   "execution_count": 7,
   "metadata": {
    "collapsed": true
   },
   "outputs": [],
   "source": [
    "df['Outcome'] = origin_df['No-show'].apply(lambda x: 1 if x == 'Yes' else 0)"
   ]
  },
  {
   "cell_type": "code",
   "execution_count": 8,
   "metadata": {
    "collapsed": true
   },
   "outputs": [],
   "source": [
    "df['Age'] = origin_df['Age']"
   ]
  },
  {
   "cell_type": "markdown",
   "metadata": {},
   "source": [
    "性別は男を1女を0ということにする"
   ]
  },
  {
   "cell_type": "code",
   "execution_count": 9,
   "metadata": {},
   "outputs": [],
   "source": [
    "df['Male'] = origin_df['Gender'].apply(lambda x: 1 if x == 'M' else 0)"
   ]
  },
  {
   "cell_type": "markdown",
   "metadata": {},
   "source": [
    "糖尿病"
   ]
  },
  {
   "cell_type": "code",
   "execution_count": 10,
   "metadata": {
    "collapsed": true
   },
   "outputs": [],
   "source": [
    "df['Diabetes'] = origin_df['Diabetes']"
   ]
  },
  {
   "cell_type": "markdown",
   "metadata": {},
   "source": [
    "アルコール依存"
   ]
  },
  {
   "cell_type": "code",
   "execution_count": 11,
   "metadata": {
    "collapsed": true
   },
   "outputs": [],
   "source": [
    "df['Alcoholism'] = origin_df['Alcoholism']"
   ]
  },
  {
   "cell_type": "markdown",
   "metadata": {},
   "source": [
    "高血圧"
   ]
  },
  {
   "cell_type": "code",
   "execution_count": 12,
   "metadata": {
    "collapsed": true
   },
   "outputs": [],
   "source": [
    "df['Hipertension'] = origin_df['Hipertension']"
   ]
  },
  {
   "cell_type": "markdown",
   "metadata": {},
   "source": [
    "なんかハンディキャップ"
   ]
  },
  {
   "cell_type": "code",
   "execution_count": 13,
   "metadata": {
    "collapsed": true
   },
   "outputs": [],
   "source": [
    "df['Handicap'] = origin_df['Handcap']"
   ]
  },
  {
   "cell_type": "markdown",
   "metadata": {},
   "source": [
    "奨学金？"
   ]
  },
  {
   "cell_type": "code",
   "execution_count": 14,
   "metadata": {
    "collapsed": true
   },
   "outputs": [],
   "source": [
    "df['Scholarship'] = origin_df['Scholarship']"
   ]
  },
  {
   "cell_type": "markdown",
   "metadata": {},
   "source": [
    "リマインダ"
   ]
  },
  {
   "cell_type": "code",
   "execution_count": 15,
   "metadata": {
    "collapsed": true
   },
   "outputs": [],
   "source": [
    "df['SMS_received'] = origin_df['SMS_received']"
   ]
  },
  {
   "cell_type": "markdown",
   "metadata": {},
   "source": [
    "曜日を取得  \n",
    "日曜日は休診日らしくなかったので略"
   ]
  },
  {
   "cell_type": "code",
   "execution_count": 16,
   "metadata": {
    "collapsed": true
   },
   "outputs": [],
   "source": [
    "get_weekday = lambda x: dt.strptime(x, '%Y-%m-%dT%H:%M:%SZ').weekday()"
   ]
  },
  {
   "cell_type": "code",
   "execution_count": 17,
   "metadata": {},
   "outputs": [],
   "source": [
    "df['AppointmentMonday'] = origin_df['AppointmentDay'].apply(lambda x: 1 if get_weekday(x) == 0 else 0)"
   ]
  },
  {
   "cell_type": "code",
   "execution_count": 18,
   "metadata": {
    "collapsed": true
   },
   "outputs": [],
   "source": [
    "df['AppointmentTuesday'] = origin_df['AppointmentDay'].apply(lambda x: 1 if get_weekday(x) == 1 else 0)"
   ]
  },
  {
   "cell_type": "code",
   "execution_count": 19,
   "metadata": {
    "collapsed": true
   },
   "outputs": [],
   "source": [
    "df['AppointmentWednesday'] = origin_df['AppointmentDay'].apply(lambda x: 1 if get_weekday(x) == 2 else 0)"
   ]
  },
  {
   "cell_type": "code",
   "execution_count": 20,
   "metadata": {
    "collapsed": true
   },
   "outputs": [],
   "source": [
    "df['AppointmentThursday'] = origin_df['AppointmentDay'].apply(lambda x: 1 if get_weekday(x) == 3 else 0)"
   ]
  },
  {
   "cell_type": "code",
   "execution_count": 21,
   "metadata": {
    "collapsed": true
   },
   "outputs": [],
   "source": [
    "df['AppointmentFriday'] = origin_df['AppointmentDay'].apply(lambda x: 1 if get_weekday(x) == 4 else 0)"
   ]
  },
  {
   "cell_type": "code",
   "execution_count": 22,
   "metadata": {
    "collapsed": true
   },
   "outputs": [],
   "source": [
    "df['AppointmentSaturday'] = origin_df['AppointmentDay'].apply(lambda x: 1 if get_weekday(x) == 5 else 0)"
   ]
  },
  {
   "cell_type": "markdown",
   "metadata": {},
   "source": [
    "相関係数取得  \n",
    "リマインダするとぶっちが発生しやすくなるという謎  \n",
    "ぶっちしそうな人にリマインダを送るようなアルゴリズムなのだろうか"
   ]
  },
  {
   "cell_type": "code",
   "execution_count": 23,
   "metadata": {},
   "outputs": [
    {
     "name": "stderr",
     "output_type": "stream",
     "text": [
      "/Users/oi.akihito/.pyenv/versions/3.6.1/lib/python3.6/site-packages/matplotlib/collections.py:590: FutureWarning: elementwise comparison failed; returning scalar instead, but in the future will perform elementwise comparison\n",
      "  if self._edgecolors == str('face'):\n"
     ]
    },
    {
     "data": {
      "text/plain": [
       "<matplotlib.axes._subplots.AxesSubplot at 0x10d745cc0>"
      ]
     },
     "execution_count": 23,
     "metadata": {},
     "output_type": "execute_result"
    },
    {
     "data": {
      "image/png": "[encoded data removed]",
      "text/plain": [
       "<matplotlib.figure.Figure at 0x1093cb9e8>"
      ]
     },
     "metadata": {},
     "output_type": "display_data"
    }
   ],
   "source": [
    "pyplot.figure(figsize=(15,15))\n",
    "seaborn.heatmap(df.corr(), annot=True)"
   ]
  },
  {
   "cell_type": "markdown",
   "metadata": {},
   "source": [
    "学習データとテストデータを分離"
   ]
  },
  {
   "cell_type": "code",
   "execution_count": 24,
   "metadata": {},
   "outputs": [
    {
     "name": "stderr",
     "output_type": "stream",
     "text": [
      "/Users/oi.akihito/.pyenv/versions/3.6.1/lib/python3.6/site-packages/ipykernel_launcher.py:1: DeprecationWarning: \n",
      ".ix is deprecated. Please use\n",
      ".loc for label based indexing or\n",
      ".iloc for positional indexing\n",
      "\n",
      "See the documentation here:\n",
      "http://pandas.pydata.org/pandas-docs/stable/indexing.html#ix-indexer-is-deprecated\n",
      "  \"\"\"Entry point for launching an IPython kernel.\n"
     ]
    }
   ],
   "source": [
    "X = df.ix[:, 'Age':]\n",
    "y = df['Outcome']\n",
    "X_train, X_test, y_train, y_test = train_test_split(X, y, random_state=0)"
   ]
  },
  {
   "cell_type": "markdown",
   "metadata": {},
   "source": [
    "## 分類"
   ]
  },
  {
   "cell_type": "markdown",
   "metadata": {},
   "source": [
    "ひとまずデフォルト設定でやってみる"
   ]
  },
  {
   "cell_type": "code",
   "execution_count": 25,
   "metadata": {},
   "outputs": [
    {
     "data": {
      "text/plain": [
       "XGBClassifier(base_score=0.5, colsample_bylevel=1, colsample_bytree=1,\n",
       "       gamma=0, learning_rate=0.1, max_delta_step=0, max_depth=3,\n",
       "       min_child_weight=1, missing=None, n_estimators=100, nthread=-1,\n",
       "       objective='binary:logistic', reg_alpha=0, reg_lambda=1,\n",
       "       scale_pos_weight=1, seed=0, silent=True, subsample=1)"
      ]
     },
     "execution_count": 25,
     "metadata": {},
     "output_type": "execute_result"
    }
   ],
   "source": [
    "model = xgb.XGBClassifier()\n",
    "\n",
    "model.fit(X_train, y_train)"
   ]
  },
  {
   "cell_type": "markdown",
   "metadata": {},
   "source": [
    "評価を見てみる  \n",
    "スコアは正解率  \n",
    "8割偏っているので全部0と予測すれば8割は取れる  \n",
    "f値も見ていきたい"
   ]
  },
  {
   "cell_type": "code",
   "execution_count": 26,
   "metadata": {},
   "outputs": [
    {
     "name": "stdout",
     "output_type": "stream",
     "text": [
      "0.7972736594487002\n",
      "0.8016430225825131\n"
     ]
    },
    {
     "name": "stderr",
     "output_type": "stream",
     "text": [
      "/Users/oi.akihito/.pyenv/versions/3.6.1/lib/python3.6/site-packages/sklearn/preprocessing/label.py:151: DeprecationWarning: The truth value of an empty array is ambiguous. Returning False, but in future this will result in an error. Use `array.size > 0` to check that an array is not empty.\n",
      "  if diff:\n",
      "/Users/oi.akihito/.pyenv/versions/3.6.1/lib/python3.6/site-packages/sklearn/preprocessing/label.py:151: DeprecationWarning: The truth value of an empty array is ambiguous. Returning False, but in future this will result in an error. Use `array.size > 0` to check that an array is not empty.\n",
      "  if diff:\n"
     ]
    }
   ],
   "source": [
    "print(model.score(X_train, y_train))\n",
    "\n",
    "print(model.score(X_test, y_test))"
   ]
  },
  {
   "cell_type": "markdown",
   "metadata": {},
   "source": [
    "テストデータのほうが精度いいとかやる気あんのか  \n",
    "混合行列をみてみる"
   ]
  },
  {
   "cell_type": "code",
   "execution_count": 27,
   "metadata": {},
   "outputs": [
    {
     "name": "stdout",
     "output_type": "stream",
     "text": [
      "[[22139    13]\n",
      " [ 5468    12]]\n",
      "0.004359673024523161\n"
     ]
    },
    {
     "name": "stderr",
     "output_type": "stream",
     "text": [
      "/Users/oi.akihito/.pyenv/versions/3.6.1/lib/python3.6/site-packages/sklearn/preprocessing/label.py:151: DeprecationWarning: The truth value of an empty array is ambiguous. Returning False, but in future this will result in an error. Use `array.size > 0` to check that an array is not empty.\n",
      "  if diff:\n",
      "/Users/oi.akihito/.pyenv/versions/3.6.1/lib/python3.6/site-packages/sklearn/preprocessing/label.py:151: DeprecationWarning: The truth value of an empty array is ambiguous. Returning False, but in future this will result in an error. Use `array.size > 0` to check that an array is not empty.\n",
      "  if diff:\n"
     ]
    }
   ],
   "source": [
    "print(confusion_matrix(y_test, model.predict(X_test)))\n",
    "\n",
    "print(f1_score(y_test, model.predict(X_test)))"
   ]
  },
  {
   "cell_type": "markdown",
   "metadata": {},
   "source": [
    "あっはい  \n",
    "一応変数の重要度を見てみる"
   ]
  },
  {
   "cell_type": "code",
   "execution_count": 28,
   "metadata": {},
   "outputs": [
    {
     "data": {
      "text/plain": [
       "([<matplotlib.axis.YTick at 0x10d2488d0>,\n",
       "  <matplotlib.axis.YTick at 0x10cf4df28>,\n",
       "  <matplotlib.axis.YTick at 0x10e3835c0>,\n",
       "  <matplotlib.axis.YTick at 0x10f4c4dd8>,\n",
       "  <matplotlib.axis.YTick at 0x10f4cb908>,\n",
       "  <matplotlib.axis.YTick at 0x1104e2438>,\n",
       "  <matplotlib.axis.YTick at 0x1104e2f28>,\n",
       "  <matplotlib.axis.YTick at 0x1104e7a58>,\n",
       "  <matplotlib.axis.YTick at 0x1104eb588>,\n",
       "  <matplotlib.axis.YTick at 0x1104f10b8>,\n",
       "  <matplotlib.axis.YTick at 0x1104f1ba8>,\n",
       "  <matplotlib.axis.YTick at 0x1104f76d8>,\n",
       "  <matplotlib.axis.YTick at 0x1104fd208>,\n",
       "  <matplotlib.axis.YTick at 0x1104fdcf8>],\n",
       " <a list of 14 Text yticklabel objects>)"
      ]
     },
     "execution_count": 28,
     "metadata": {},
     "output_type": "execute_result"
    },
    {
     "data": {
      "image/png": "[encoded data removed]",
      "text/plain": [
       "<matplotlib.figure.Figure at 0x10458e668>"
      ]
     },
     "metadata": {},
     "output_type": "display_data"
    }
   ],
   "source": [
    "values, names = zip(*sorted(zip(model.feature_importances_, X.columns)))\n",
    "\n",
    "pyplot.figure(figsize=(12,12))\n",
    "pyplot.barh(range(len(names)), values, align='center')\n",
    "pyplot.yticks(range(len(names)), names)"
   ]
  },
  {
   "cell_type": "markdown",
   "metadata": {},
   "source": [
    "### 説明変数増やしてみる\n",
    "\n",
    "うーん、「予約した日から来院すべき日までの日数」とか求めてみる"
   ]
  },
  {
   "cell_type": "code",
   "execution_count": 29,
   "metadata": {
    "collapsed": true
   },
   "outputs": [],
   "source": [
    "get_date = lambda x: dt.strptime(x, '%Y-%m-%dT%H:%M:%SZ').date()"
   ]
  },
  {
   "cell_type": "code",
   "execution_count": 30,
   "metadata": {
    "collapsed": true
   },
   "outputs": [],
   "source": [
    "temp_df = pd.DataFrame()"
   ]
  },
  {
   "cell_type": "code",
   "execution_count": 31,
   "metadata": {
    "collapsed": true
   },
   "outputs": [],
   "source": [
    "temp_df['ScheduledDay'] = origin_df['ScheduledDay'].apply(lambda x: get_date(x))"
   ]
  },
  {
   "cell_type": "code",
   "execution_count": 32,
   "metadata": {
    "collapsed": true
   },
   "outputs": [],
   "source": [
    "temp_df['AppointmentDay'] = origin_df['AppointmentDay'].apply(lambda x: get_date(x))"
   ]
  },
  {
   "cell_type": "code",
   "execution_count": 33,
   "metadata": {},
   "outputs": [],
   "source": [
    "df['AwaitingDays'] = (temp_df['AppointmentDay'] - temp_df['ScheduledDay']).apply(lambda x: x.days)"
   ]
  },
  {
   "cell_type": "markdown",
   "metadata": {},
   "source": [
    "相関みる"
   ]
  },
  {
   "cell_type": "code",
   "execution_count": 34,
   "metadata": {},
   "outputs": [
    {
     "name": "stderr",
     "output_type": "stream",
     "text": [
      "/Users/oi.akihito/.pyenv/versions/3.6.1/lib/python3.6/site-packages/matplotlib/collections.py:590: FutureWarning: elementwise comparison failed; returning scalar instead, but in the future will perform elementwise comparison\n",
      "  if self._edgecolors == str('face'):\n"
     ]
    },
    {
     "data": {
      "text/plain": [
       "<matplotlib.axes._subplots.AxesSubplot at 0x10e181860>"
      ]
     },
     "execution_count": 34,
     "metadata": {},
     "output_type": "execute_result"
    },
    {
     "data": {
      "image/png": "[encoded data removed]",
      "text/plain": [
       "<matplotlib.figure.Figure at 0x1105028d0>"
      ]
     },
     "metadata": {},
     "output_type": "display_data"
    }
   ],
   "source": [
    "pyplot.figure(figsize=(15,15))\n",
    "seaborn.heatmap(df.corr(), annot=True)"
   ]
  },
  {
   "cell_type": "markdown",
   "metadata": {},
   "source": [
    "よさそう"
   ]
  },
  {
   "cell_type": "code",
   "execution_count": 35,
   "metadata": {
    "collapsed": true
   },
   "outputs": [],
   "source": [
    "X = df.ix[:, 'Age':]\n",
    "y = df['Outcome']\n",
    "X_train, X_test, y_train, y_test = train_test_split(X, y, random_state=0)"
   ]
  },
  {
   "cell_type": "code",
   "execution_count": 36,
   "metadata": {},
   "outputs": [
    {
     "data": {
      "text/plain": [
       "XGBClassifier(base_score=0.5, colsample_bylevel=1, colsample_bytree=1,\n",
       "       gamma=0, learning_rate=0.1, max_delta_step=0, max_depth=3,\n",
       "       min_child_weight=1, missing=None, n_estimators=100, nthread=-1,\n",
       "       objective='binary:logistic', reg_alpha=0, reg_lambda=1,\n",
       "       scale_pos_weight=1, seed=0, silent=True, subsample=1)"
      ]
     },
     "execution_count": 36,
     "metadata": {},
     "output_type": "execute_result"
    }
   ],
   "source": [
    "model = xgb.XGBClassifier()\n",
    "\n",
    "model.fit(X_train, y_train)"
   ]
  },
  {
   "cell_type": "code",
   "execution_count": 37,
   "metadata": {},
   "outputs": [
    {
     "name": "stdout",
     "output_type": "stream",
     "text": [
      "0.7974546112552023\n",
      "0.8014258830341633\n"
     ]
    },
    {
     "name": "stderr",
     "output_type": "stream",
     "text": [
      "/Users/oi.akihito/.pyenv/versions/3.6.1/lib/python3.6/site-packages/sklearn/preprocessing/label.py:151: DeprecationWarning: The truth value of an empty array is ambiguous. Returning False, but in future this will result in an error. Use `array.size > 0` to check that an array is not empty.\n",
      "  if diff:\n",
      "/Users/oi.akihito/.pyenv/versions/3.6.1/lib/python3.6/site-packages/sklearn/preprocessing/label.py:151: DeprecationWarning: The truth value of an empty array is ambiguous. Returning False, but in future this will result in an error. Use `array.size > 0` to check that an array is not empty.\n",
      "  if diff:\n"
     ]
    }
   ],
   "source": [
    "print(model.score(X_train, y_train))\n",
    "\n",
    "print(model.score(X_test, y_test))"
   ]
  },
  {
   "cell_type": "code",
   "execution_count": 38,
   "metadata": {
    "scrolled": true
   },
   "outputs": [
    {
     "name": "stdout",
     "output_type": "stream",
     "text": [
      "[[22128    24]\n",
      " [ 5463    17]]\n",
      "0.006158304654953812\n"
     ]
    },
    {
     "name": "stderr",
     "output_type": "stream",
     "text": [
      "/Users/oi.akihito/.pyenv/versions/3.6.1/lib/python3.6/site-packages/sklearn/preprocessing/label.py:151: DeprecationWarning: The truth value of an empty array is ambiguous. Returning False, but in future this will result in an error. Use `array.size > 0` to check that an array is not empty.\n",
      "  if diff:\n",
      "/Users/oi.akihito/.pyenv/versions/3.6.1/lib/python3.6/site-packages/sklearn/preprocessing/label.py:151: DeprecationWarning: The truth value of an empty array is ambiguous. Returning False, but in future this will result in an error. Use `array.size > 0` to check that an array is not empty.\n",
      "  if diff:\n"
     ]
    }
   ],
   "source": [
    "print(confusion_matrix(y_test, model.predict(X_test)))\n",
    "\n",
    "print(f1_score(y_test, model.predict(X_test)))"
   ]
  },
  {
   "cell_type": "markdown",
   "metadata": {},
   "source": [
    "良くはなったけどさ、微差では？"
   ]
  },
  {
   "cell_type": "markdown",
   "metadata": {},
   "source": [
    "### パラメータ調整\n",
    "\n",
    "あんまり期待できないけどとりあえず調整しよう"
   ]
  },
  {
   "cell_type": "code",
   "execution_count": 39,
   "metadata": {},
   "outputs": [
    {
     "data": {
      "text/plain": [
       "<scipy.stats._distn_infrastructure.rv_frozen at 0x10d8a3588>"
      ]
     },
     "execution_count": 39,
     "metadata": {},
     "output_type": "execute_result"
    }
   ],
   "source": [
    "sp.stats.uniform(0.1, 0.4)"
   ]
  },
  {
   "cell_type": "code",
   "execution_count": 52,
   "metadata": {},
   "outputs": [],
   "source": [
    "params = {\n",
    "    'learning_rate': sp.stats.uniform(0.01, 0.2),\n",
    "    'max_depth': sp.stats.randint(3, 11), # 木の深さの最大値\n",
    "    'subsample': sp.stats.uniform(0.5, 0.5), # サブサンプルを生成するときの学習データの抽出割合\n",
    "    'min_child_weight': sp.stats.randint(1, 5), # 重み最小\n",
    "    'max_delta_step': sp.stats.randint(1, 11), #外れ値に強くなる\n",
    "    'colsample_bytree': sp.stats.uniform(0.5, 0.5) # サブサンプルの割合\n",
    "}"
   ]
  },
  {
   "cell_type": "code",
   "execution_count": 54,
   "metadata": {},
   "outputs": [],
   "source": [
    "cv = RandomizedSearchCV(xgb.XGBClassifier(), params, cv=5, scoring= 'f1', n_jobs =1, verbose=2, n_iter=50)"
   ]
  },
  {
   "cell_type": "code",
   "execution_count": null,
   "metadata": {
    "scrolled": true
   },
   "outputs": [
    {
     "name": "stdout",
     "output_type": "stream",
     "text": [
      "Fitting 5 folds for each of 50 candidates, totalling 250 fits\n",
      "[CV] colsample_bytree=0.8220690060854705, learning_rate=0.1831987660747445, max_delta_step=4, max_depth=4, min_child_weight=4, subsample=0.9502084499922052 \n"
     ]
    },
    {
     "name": "stderr",
     "output_type": "stream",
     "text": [
      "/Users/oi.akihito/.pyenv/versions/3.6.1/lib/python3.6/site-packages/sklearn/preprocessing/label.py:151: DeprecationWarning: The truth value of an empty array is ambiguous. Returning False, but in future this will result in an error. Use `array.size > 0` to check that an array is not empty.\n",
      "  if diff:\n",
      "[Parallel(n_jobs=1)]: Done   1 out of   1 | elapsed:    1.1s remaining:    0.0s\n"
     ]
    },
    {
     "name": "stdout",
     "output_type": "stream",
     "text": [
      "[CV]  colsample_bytree=0.8220690060854705, learning_rate=0.1831987660747445, max_delta_step=4, max_depth=4, min_child_weight=4, subsample=0.9502084499922052 -   1.1s\n",
      "[CV] colsample_bytree=0.8220690060854705, learning_rate=0.1831987660747445, max_delta_step=4, max_depth=4, min_child_weight=4, subsample=0.9502084499922052 \n"
     ]
    },
    {
     "name": "stderr",
     "output_type": "stream",
     "text": [
      "/Users/oi.akihito/.pyenv/versions/3.6.1/lib/python3.6/site-packages/sklearn/preprocessing/label.py:151: DeprecationWarning: The truth value of an empty array is ambiguous. Returning False, but in future this will result in an error. Use `array.size > 0` to check that an array is not empty.\n",
      "  if diff:\n"
     ]
    },
    {
     "name": "stdout",
     "output_type": "stream",
     "text": [
      "[CV]  colsample_bytree=0.8220690060854705, learning_rate=0.1831987660747445, max_delta_step=4, max_depth=4, min_child_weight=4, subsample=0.9502084499922052 -   1.0s\n",
      "[CV] colsample_bytree=0.8220690060854705, learning_rate=0.1831987660747445, max_delta_step=4, max_depth=4, min_child_weight=4, subsample=0.9502084499922052 \n"
     ]
    },
    {
     "name": "stderr",
     "output_type": "stream",
     "text": [
      "/Users/oi.akihito/.pyenv/versions/3.6.1/lib/python3.6/site-packages/sklearn/preprocessing/label.py:151: DeprecationWarning: The truth value of an empty array is ambiguous. Returning False, but in future this will result in an error. Use `array.size > 0` to check that an array is not empty.\n",
      "  if diff:\n"
     ]
    },
    {
     "name": "stdout",
     "output_type": "stream",
     "text": [
      "[CV]  colsample_bytree=0.8220690060854705, learning_rate=0.1831987660747445, max_delta_step=4, max_depth=4, min_child_weight=4, subsample=0.9502084499922052 -   1.1s\n",
      "[CV] colsample_bytree=0.8220690060854705, learning_rate=0.1831987660747445, max_delta_step=4, max_depth=4, min_child_weight=4, subsample=0.9502084499922052 \n"
     ]
    },
    {
     "name": "stderr",
     "output_type": "stream",
     "text": [
      "/Users/oi.akihito/.pyenv/versions/3.6.1/lib/python3.6/site-packages/sklearn/preprocessing/label.py:151: DeprecationWarning: The truth value of an empty array is ambiguous. Returning False, but in future this will result in an error. Use `array.size > 0` to check that an array is not empty.\n",
      "  if diff:\n"
     ]
    },
    {
     "name": "stdout",
     "output_type": "stream",
     "text": [
      "[CV]  colsample_bytree=0.8220690060854705, learning_rate=0.1831987660747445, max_delta_step=4, max_depth=4, min_child_weight=4, subsample=0.9502084499922052 -   1.2s\n",
      "[CV] colsample_bytree=0.8220690060854705, learning_rate=0.1831987660747445, max_delta_step=4, max_depth=4, min_child_weight=4, subsample=0.9502084499922052 \n"
     ]
    },
    {
     "name": "stderr",
     "output_type": "stream",
     "text": [
      "/Users/oi.akihito/.pyenv/versions/3.6.1/lib/python3.6/site-packages/sklearn/preprocessing/label.py:151: DeprecationWarning: The truth value of an empty array is ambiguous. Returning False, but in future this will result in an error. Use `array.size > 0` to check that an array is not empty.\n",
      "  if diff:\n"
     ]
    },
    {
     "name": "stdout",
     "output_type": "stream",
     "text": [
      "[CV]  colsample_bytree=0.8220690060854705, learning_rate=0.1831987660747445, max_delta_step=4, max_depth=4, min_child_weight=4, subsample=0.9502084499922052 -   1.1s\n",
      "[CV] colsample_bytree=0.7532712771674613, learning_rate=0.16460488906617504, max_delta_step=9, max_depth=4, min_child_weight=1, subsample=0.6785952658323207 \n"
     ]
    },
    {
     "name": "stderr",
     "output_type": "stream",
     "text": [
      "/Users/oi.akihito/.pyenv/versions/3.6.1/lib/python3.6/site-packages/sklearn/preprocessing/label.py:151: DeprecationWarning: The truth value of an empty array is ambiguous. Returning False, but in future this will result in an error. Use `array.size > 0` to check that an array is not empty.\n",
      "  if diff:\n"
     ]
    },
    {
     "name": "stdout",
     "output_type": "stream",
     "text": [
      "[CV]  colsample_bytree=0.7532712771674613, learning_rate=0.16460488906617504, max_delta_step=9, max_depth=4, min_child_weight=1, subsample=0.6785952658323207 -   1.4s\n",
      "[CV] colsample_bytree=0.7532712771674613, learning_rate=0.16460488906617504, max_delta_step=9, max_depth=4, min_child_weight=1, subsample=0.6785952658323207 \n"
     ]
    },
    {
     "name": "stderr",
     "output_type": "stream",
     "text": [
      "/Users/oi.akihito/.pyenv/versions/3.6.1/lib/python3.6/site-packages/sklearn/preprocessing/label.py:151: DeprecationWarning: The truth value of an empty array is ambiguous. Returning False, but in future this will result in an error. Use `array.size > 0` to check that an array is not empty.\n",
      "  if diff:\n"
     ]
    },
    {
     "name": "stdout",
     "output_type": "stream",
     "text": [
      "[CV]  colsample_bytree=0.7532712771674613, learning_rate=0.16460488906617504, max_delta_step=9, max_depth=4, min_child_weight=1, subsample=0.6785952658323207 -   1.7s\n",
      "[CV] colsample_bytree=0.7532712771674613, learning_rate=0.16460488906617504, max_delta_step=9, max_depth=4, min_child_weight=1, subsample=0.6785952658323207 \n"
     ]
    },
    {
     "name": "stderr",
     "output_type": "stream",
     "text": [
      "/Users/oi.akihito/.pyenv/versions/3.6.1/lib/python3.6/site-packages/sklearn/preprocessing/label.py:151: DeprecationWarning: The truth value of an empty array is ambiguous. Returning False, but in future this will result in an error. Use `array.size > 0` to check that an array is not empty.\n",
      "  if diff:\n"
     ]
    },
    {
     "name": "stdout",
     "output_type": "stream",
     "text": [
      "[CV]  colsample_bytree=0.7532712771674613, learning_rate=0.16460488906617504, max_delta_step=9, max_depth=4, min_child_weight=1, subsample=0.6785952658323207 -   1.4s\n",
      "[CV] colsample_bytree=0.7532712771674613, learning_rate=0.16460488906617504, max_delta_step=9, max_depth=4, min_child_weight=1, subsample=0.6785952658323207 \n"
     ]
    },
    {
     "name": "stderr",
     "output_type": "stream",
     "text": [
      "/Users/oi.akihito/.pyenv/versions/3.6.1/lib/python3.6/site-packages/sklearn/preprocessing/label.py:151: DeprecationWarning: The truth value of an empty array is ambiguous. Returning False, but in future this will result in an error. Use `array.size > 0` to check that an array is not empty.\n",
      "  if diff:\n"
     ]
    },
    {
     "name": "stdout",
     "output_type": "stream",
     "text": [
      "[CV]  colsample_bytree=0.7532712771674613, learning_rate=0.16460488906617504, max_delta_step=9, max_depth=4, min_child_weight=1, subsample=0.6785952658323207 -   1.5s\n",
      "[CV] colsample_bytree=0.7532712771674613, learning_rate=0.16460488906617504, max_delta_step=9, max_depth=4, min_child_weight=1, subsample=0.6785952658323207 \n"
     ]
    },
    {
     "name": "stderr",
     "output_type": "stream",
     "text": [
      "/Users/oi.akihito/.pyenv/versions/3.6.1/lib/python3.6/site-packages/sklearn/preprocessing/label.py:151: DeprecationWarning: The truth value of an empty array is ambiguous. Returning False, but in future this will result in an error. Use `array.size > 0` to check that an array is not empty.\n",
      "  if diff:\n"
     ]
    },
    {
     "name": "stdout",
     "output_type": "stream",
     "text": [
      "[CV]  colsample_bytree=0.7532712771674613, learning_rate=0.16460488906617504, max_delta_step=9, max_depth=4, min_child_weight=1, subsample=0.6785952658323207 -   1.4s\n",
      "[CV] colsample_bytree=0.5180289752418428, learning_rate=0.1311081297457934, max_delta_step=8, max_depth=7, min_child_weight=3, subsample=0.8981995278110977 \n"
     ]
    },
    {
     "name": "stderr",
     "output_type": "stream",
     "text": [
      "/Users/oi.akihito/.pyenv/versions/3.6.1/lib/python3.6/site-packages/sklearn/preprocessing/label.py:151: DeprecationWarning: The truth value of an empty array is ambiguous. Returning False, but in future this will result in an error. Use `array.size > 0` to check that an array is not empty.\n",
      "  if diff:\n"
     ]
    },
    {
     "name": "stdout",
     "output_type": "stream",
     "text": [
      "[CV]  colsample_bytree=0.5180289752418428, learning_rate=0.1311081297457934, max_delta_step=8, max_depth=7, min_child_weight=3, subsample=0.8981995278110977 -   1.7s\n",
      "[CV] colsample_bytree=0.5180289752418428, learning_rate=0.1311081297457934, max_delta_step=8, max_depth=7, min_child_weight=3, subsample=0.8981995278110977 \n"
     ]
    },
    {
     "name": "stderr",
     "output_type": "stream",
     "text": [
      "/Users/oi.akihito/.pyenv/versions/3.6.1/lib/python3.6/site-packages/sklearn/preprocessing/label.py:151: DeprecationWarning: The truth value of an empty array is ambiguous. Returning False, but in future this will result in an error. Use `array.size > 0` to check that an array is not empty.\n",
      "  if diff:\n"
     ]
    },
    {
     "name": "stdout",
     "output_type": "stream",
     "text": [
      "[CV]  colsample_bytree=0.5180289752418428, learning_rate=0.1311081297457934, max_delta_step=8, max_depth=7, min_child_weight=3, subsample=0.8981995278110977 -   1.6s\n",
      "[CV] colsample_bytree=0.5180289752418428, learning_rate=0.1311081297457934, max_delta_step=8, max_depth=7, min_child_weight=3, subsample=0.8981995278110977 \n"
     ]
    },
    {
     "name": "stderr",
     "output_type": "stream",
     "text": [
      "/Users/oi.akihito/.pyenv/versions/3.6.1/lib/python3.6/site-packages/sklearn/preprocessing/label.py:151: DeprecationWarning: The truth value of an empty array is ambiguous. Returning False, but in future this will result in an error. Use `array.size > 0` to check that an array is not empty.\n",
      "  if diff:\n"
     ]
    },
    {
     "name": "stdout",
     "output_type": "stream",
     "text": [
      "[CV]  colsample_bytree=0.5180289752418428, learning_rate=0.1311081297457934, max_delta_step=8, max_depth=7, min_child_weight=3, subsample=0.8981995278110977 -   1.8s\n",
      "[CV] colsample_bytree=0.5180289752418428, learning_rate=0.1311081297457934, max_delta_step=8, max_depth=7, min_child_weight=3, subsample=0.8981995278110977 \n"
     ]
    },
    {
     "name": "stderr",
     "output_type": "stream",
     "text": [
      "/Users/oi.akihito/.pyenv/versions/3.6.1/lib/python3.6/site-packages/sklearn/preprocessing/label.py:151: DeprecationWarning: The truth value of an empty array is ambiguous. Returning False, but in future this will result in an error. Use `array.size > 0` to check that an array is not empty.\n",
      "  if diff:\n"
     ]
    },
    {
     "name": "stdout",
     "output_type": "stream",
     "text": [
      "[CV]  colsample_bytree=0.5180289752418428, learning_rate=0.1311081297457934, max_delta_step=8, max_depth=7, min_child_weight=3, subsample=0.8981995278110977 -   2.0s\n",
      "[CV] colsample_bytree=0.5180289752418428, learning_rate=0.1311081297457934, max_delta_step=8, max_depth=7, min_child_weight=3, subsample=0.8981995278110977 \n"
     ]
    },
    {
     "name": "stderr",
     "output_type": "stream",
     "text": [
      "/Users/oi.akihito/.pyenv/versions/3.6.1/lib/python3.6/site-packages/sklearn/preprocessing/label.py:151: DeprecationWarning: The truth value of an empty array is ambiguous. Returning False, but in future this will result in an error. Use `array.size > 0` to check that an array is not empty.\n",
      "  if diff:\n"
     ]
    },
    {
     "name": "stdout",
     "output_type": "stream",
     "text": [
      "[CV]  colsample_bytree=0.5180289752418428, learning_rate=0.1311081297457934, max_delta_step=8, max_depth=7, min_child_weight=3, subsample=0.8981995278110977 -   1.9s\n",
      "[CV] colsample_bytree=0.9491495019337564, learning_rate=0.03377186396069162, max_delta_step=10, max_depth=9, min_child_weight=3, subsample=0.7390683107851688 \n"
     ]
    },
    {
     "name": "stderr",
     "output_type": "stream",
     "text": [
      "/Users/oi.akihito/.pyenv/versions/3.6.1/lib/python3.6/site-packages/sklearn/preprocessing/label.py:151: DeprecationWarning: The truth value of an empty array is ambiguous. Returning False, but in future this will result in an error. Use `array.size > 0` to check that an array is not empty.\n",
      "  if diff:\n"
     ]
    },
    {
     "name": "stdout",
     "output_type": "stream",
     "text": [
      "[CV]  colsample_bytree=0.9491495019337564, learning_rate=0.03377186396069162, max_delta_step=10, max_depth=9, min_child_weight=3, subsample=0.7390683107851688 -   3.8s\n",
      "[CV] colsample_bytree=0.9491495019337564, learning_rate=0.03377186396069162, max_delta_step=10, max_depth=9, min_child_weight=3, subsample=0.7390683107851688 \n"
     ]
    },
    {
     "name": "stderr",
     "output_type": "stream",
     "text": [
      "/Users/oi.akihito/.pyenv/versions/3.6.1/lib/python3.6/site-packages/sklearn/preprocessing/label.py:151: DeprecationWarning: The truth value of an empty array is ambiguous. Returning False, but in future this will result in an error. Use `array.size > 0` to check that an array is not empty.\n",
      "  if diff:\n"
     ]
    },
    {
     "name": "stdout",
     "output_type": "stream",
     "text": [
      "[CV]  colsample_bytree=0.9491495019337564, learning_rate=0.03377186396069162, max_delta_step=10, max_depth=9, min_child_weight=3, subsample=0.7390683107851688 -   3.6s\n",
      "[CV] colsample_bytree=0.9491495019337564, learning_rate=0.03377186396069162, max_delta_step=10, max_depth=9, min_child_weight=3, subsample=0.7390683107851688 \n"
     ]
    },
    {
     "name": "stderr",
     "output_type": "stream",
     "text": [
      "/Users/oi.akihito/.pyenv/versions/3.6.1/lib/python3.6/site-packages/sklearn/preprocessing/label.py:151: DeprecationWarning: The truth value of an empty array is ambiguous. Returning False, but in future this will result in an error. Use `array.size > 0` to check that an array is not empty.\n",
      "  if diff:\n"
     ]
    },
    {
     "name": "stdout",
     "output_type": "stream",
     "text": [
      "[CV]  colsample_bytree=0.9491495019337564, learning_rate=0.03377186396069162, max_delta_step=10, max_depth=9, min_child_weight=3, subsample=0.7390683107851688 -   3.1s\n",
      "[CV] colsample_bytree=0.9491495019337564, learning_rate=0.03377186396069162, max_delta_step=10, max_depth=9, min_child_weight=3, subsample=0.7390683107851688 \n"
     ]
    },
    {
     "name": "stderr",
     "output_type": "stream",
     "text": [
      "/Users/oi.akihito/.pyenv/versions/3.6.1/lib/python3.6/site-packages/sklearn/preprocessing/label.py:151: DeprecationWarning: The truth value of an empty array is ambiguous. Returning False, but in future this will result in an error. Use `array.size > 0` to check that an array is not empty.\n",
      "  if diff:\n"
     ]
    },
    {
     "name": "stdout",
     "output_type": "stream",
     "text": [
      "[CV]  colsample_bytree=0.9491495019337564, learning_rate=0.03377186396069162, max_delta_step=10, max_depth=9, min_child_weight=3, subsample=0.7390683107851688 -   3.1s\n",
      "[CV] colsample_bytree=0.9491495019337564, learning_rate=0.03377186396069162, max_delta_step=10, max_depth=9, min_child_weight=3, subsample=0.7390683107851688 \n"
     ]
    },
    {
     "name": "stderr",
     "output_type": "stream",
     "text": [
      "/Users/oi.akihito/.pyenv/versions/3.6.1/lib/python3.6/site-packages/sklearn/preprocessing/label.py:151: DeprecationWarning: The truth value of an empty array is ambiguous. Returning False, but in future this will result in an error. Use `array.size > 0` to check that an array is not empty.\n",
      "  if diff:\n"
     ]
    },
    {
     "name": "stdout",
     "output_type": "stream",
     "text": [
      "[CV]  colsample_bytree=0.9491495019337564, learning_rate=0.03377186396069162, max_delta_step=10, max_depth=9, min_child_weight=3, subsample=0.7390683107851688 -   3.9s\n",
      "[CV] colsample_bytree=0.9385100014317307, learning_rate=0.08999805088788854, max_delta_step=9, max_depth=8, min_child_weight=4, subsample=0.5623642864875342 \n"
     ]
    },
    {
     "name": "stderr",
     "output_type": "stream",
     "text": [
      "/Users/oi.akihito/.pyenv/versions/3.6.1/lib/python3.6/site-packages/sklearn/preprocessing/label.py:151: DeprecationWarning: The truth value of an empty array is ambiguous. Returning False, but in future this will result in an error. Use `array.size > 0` to check that an array is not empty.\n",
      "  if diff:\n"
     ]
    },
    {
     "name": "stdout",
     "output_type": "stream",
     "text": [
      "[CV]  colsample_bytree=0.9385100014317307, learning_rate=0.08999805088788854, max_delta_step=9, max_depth=8, min_child_weight=4, subsample=0.5623642864875342 -   3.6s\n",
      "[CV] colsample_bytree=0.9385100014317307, learning_rate=0.08999805088788854, max_delta_step=9, max_depth=8, min_child_weight=4, subsample=0.5623642864875342 \n"
     ]
    },
    {
     "name": "stderr",
     "output_type": "stream",
     "text": [
      "/Users/oi.akihito/.pyenv/versions/3.6.1/lib/python3.6/site-packages/sklearn/preprocessing/label.py:151: DeprecationWarning: The truth value of an empty array is ambiguous. Returning False, but in future this will result in an error. Use `array.size > 0` to check that an array is not empty.\n",
      "  if diff:\n"
     ]
    },
    {
     "name": "stdout",
     "output_type": "stream",
     "text": [
      "[CV]  colsample_bytree=0.9385100014317307, learning_rate=0.08999805088788854, max_delta_step=9, max_depth=8, min_child_weight=4, subsample=0.5623642864875342 -   2.8s\n",
      "[CV] colsample_bytree=0.9385100014317307, learning_rate=0.08999805088788854, max_delta_step=9, max_depth=8, min_child_weight=4, subsample=0.5623642864875342 \n"
     ]
    },
    {
     "name": "stderr",
     "output_type": "stream",
     "text": [
      "/Users/oi.akihito/.pyenv/versions/3.6.1/lib/python3.6/site-packages/sklearn/preprocessing/label.py:151: DeprecationWarning: The truth value of an empty array is ambiguous. Returning False, but in future this will result in an error. Use `array.size > 0` to check that an array is not empty.\n",
      "  if diff:\n"
     ]
    },
    {
     "name": "stdout",
     "output_type": "stream",
     "text": [
      "[CV]  colsample_bytree=0.9385100014317307, learning_rate=0.08999805088788854, max_delta_step=9, max_depth=8, min_child_weight=4, subsample=0.5623642864875342 -   2.7s\n",
      "[CV] colsample_bytree=0.9385100014317307, learning_rate=0.08999805088788854, max_delta_step=9, max_depth=8, min_child_weight=4, subsample=0.5623642864875342 \n"
     ]
    },
    {
     "name": "stderr",
     "output_type": "stream",
     "text": [
      "/Users/oi.akihito/.pyenv/versions/3.6.1/lib/python3.6/site-packages/sklearn/preprocessing/label.py:151: DeprecationWarning: The truth value of an empty array is ambiguous. Returning False, but in future this will result in an error. Use `array.size > 0` to check that an array is not empty.\n",
      "  if diff:\n"
     ]
    },
    {
     "name": "stdout",
     "output_type": "stream",
     "text": [
      "[CV]  colsample_bytree=0.9385100014317307, learning_rate=0.08999805088788854, max_delta_step=9, max_depth=8, min_child_weight=4, subsample=0.5623642864875342 -   3.0s\n",
      "[CV] colsample_bytree=0.9385100014317307, learning_rate=0.08999805088788854, max_delta_step=9, max_depth=8, min_child_weight=4, subsample=0.5623642864875342 \n"
     ]
    },
    {
     "name": "stderr",
     "output_type": "stream",
     "text": [
      "/Users/oi.akihito/.pyenv/versions/3.6.1/lib/python3.6/site-packages/sklearn/preprocessing/label.py:151: DeprecationWarning: The truth value of an empty array is ambiguous. Returning False, but in future this will result in an error. Use `array.size > 0` to check that an array is not empty.\n",
      "  if diff:\n"
     ]
    },
    {
     "name": "stdout",
     "output_type": "stream",
     "text": [
      "[CV]  colsample_bytree=0.9385100014317307, learning_rate=0.08999805088788854, max_delta_step=9, max_depth=8, min_child_weight=4, subsample=0.5623642864875342 -   3.2s\n",
      "[CV] colsample_bytree=0.8541816552128632, learning_rate=0.16637204115153362, max_delta_step=5, max_depth=8, min_child_weight=3, subsample=0.923217290009494 \n"
     ]
    },
    {
     "name": "stderr",
     "output_type": "stream",
     "text": [
      "/Users/oi.akihito/.pyenv/versions/3.6.1/lib/python3.6/site-packages/sklearn/preprocessing/label.py:151: DeprecationWarning: The truth value of an empty array is ambiguous. Returning False, but in future this will result in an error. Use `array.size > 0` to check that an array is not empty.\n",
      "  if diff:\n"
     ]
    },
    {
     "name": "stdout",
     "output_type": "stream",
     "text": [
      "[CV]  colsample_bytree=0.8541816552128632, learning_rate=0.16637204115153362, max_delta_step=5, max_depth=8, min_child_weight=3, subsample=0.923217290009494 -   2.7s\n",
      "[CV] colsample_bytree=0.8541816552128632, learning_rate=0.16637204115153362, max_delta_step=5, max_depth=8, min_child_weight=3, subsample=0.923217290009494 \n"
     ]
    },
    {
     "name": "stderr",
     "output_type": "stream",
     "text": [
      "/Users/oi.akihito/.pyenv/versions/3.6.1/lib/python3.6/site-packages/sklearn/preprocessing/label.py:151: DeprecationWarning: The truth value of an empty array is ambiguous. Returning False, but in future this will result in an error. Use `array.size > 0` to check that an array is not empty.\n",
      "  if diff:\n"
     ]
    },
    {
     "name": "stdout",
     "output_type": "stream",
     "text": [
      "[CV]  colsample_bytree=0.8541816552128632, learning_rate=0.16637204115153362, max_delta_step=5, max_depth=8, min_child_weight=3, subsample=0.923217290009494 -   2.5s\n",
      "[CV] colsample_bytree=0.8541816552128632, learning_rate=0.16637204115153362, max_delta_step=5, max_depth=8, min_child_weight=3, subsample=0.923217290009494 \n"
     ]
    },
    {
     "name": "stderr",
     "output_type": "stream",
     "text": [
      "/Users/oi.akihito/.pyenv/versions/3.6.1/lib/python3.6/site-packages/sklearn/preprocessing/label.py:151: DeprecationWarning: The truth value of an empty array is ambiguous. Returning False, but in future this will result in an error. Use `array.size > 0` to check that an array is not empty.\n",
      "  if diff:\n"
     ]
    },
    {
     "name": "stdout",
     "output_type": "stream",
     "text": [
      "[CV]  colsample_bytree=0.8541816552128632, learning_rate=0.16637204115153362, max_delta_step=5, max_depth=8, min_child_weight=3, subsample=0.923217290009494 -   2.2s\n",
      "[CV] colsample_bytree=0.8541816552128632, learning_rate=0.16637204115153362, max_delta_step=5, max_depth=8, min_child_weight=3, subsample=0.923217290009494 \n"
     ]
    },
    {
     "name": "stderr",
     "output_type": "stream",
     "text": [
      "/Users/oi.akihito/.pyenv/versions/3.6.1/lib/python3.6/site-packages/sklearn/preprocessing/label.py:151: DeprecationWarning: The truth value of an empty array is ambiguous. Returning False, but in future this will result in an error. Use `array.size > 0` to check that an array is not empty.\n",
      "  if diff:\n"
     ]
    },
    {
     "name": "stdout",
     "output_type": "stream",
     "text": [
      "[CV]  colsample_bytree=0.8541816552128632, learning_rate=0.16637204115153362, max_delta_step=5, max_depth=8, min_child_weight=3, subsample=0.923217290009494 -   2.1s\n",
      "[CV] colsample_bytree=0.8541816552128632, learning_rate=0.16637204115153362, max_delta_step=5, max_depth=8, min_child_weight=3, subsample=0.923217290009494 \n"
     ]
    },
    {
     "name": "stderr",
     "output_type": "stream",
     "text": [
      "/Users/oi.akihito/.pyenv/versions/3.6.1/lib/python3.6/site-packages/sklearn/preprocessing/label.py:151: DeprecationWarning: The truth value of an empty array is ambiguous. Returning False, but in future this will result in an error. Use `array.size > 0` to check that an array is not empty.\n",
      "  if diff:\n"
     ]
    },
    {
     "name": "stdout",
     "output_type": "stream",
     "text": [
      "[CV]  colsample_bytree=0.8541816552128632, learning_rate=0.16637204115153362, max_delta_step=5, max_depth=8, min_child_weight=3, subsample=0.923217290009494 -   2.1s\n",
      "[CV] colsample_bytree=0.9848530569299614, learning_rate=0.20938281615925838, max_delta_step=1, max_depth=9, min_child_weight=2, subsample=0.6381390880903373 \n"
     ]
    },
    {
     "name": "stderr",
     "output_type": "stream",
     "text": [
      "/Users/oi.akihito/.pyenv/versions/3.6.1/lib/python3.6/site-packages/sklearn/preprocessing/label.py:151: DeprecationWarning: The truth value of an empty array is ambiguous. Returning False, but in future this will result in an error. Use `array.size > 0` to check that an array is not empty.\n",
      "  if diff:\n"
     ]
    },
    {
     "name": "stdout",
     "output_type": "stream",
     "text": [
      "[CV]  colsample_bytree=0.9848530569299614, learning_rate=0.20938281615925838, max_delta_step=1, max_depth=9, min_child_weight=2, subsample=0.6381390880903373 -   2.9s\n",
      "[CV] colsample_bytree=0.9848530569299614, learning_rate=0.20938281615925838, max_delta_step=1, max_depth=9, min_child_weight=2, subsample=0.6381390880903373 \n"
     ]
    },
    {
     "name": "stderr",
     "output_type": "stream",
     "text": [
      "/Users/oi.akihito/.pyenv/versions/3.6.1/lib/python3.6/site-packages/sklearn/preprocessing/label.py:151: DeprecationWarning: The truth value of an empty array is ambiguous. Returning False, but in future this will result in an error. Use `array.size > 0` to check that an array is not empty.\n",
      "  if diff:\n"
     ]
    },
    {
     "name": "stdout",
     "output_type": "stream",
     "text": [
      "[CV]  colsample_bytree=0.9848530569299614, learning_rate=0.20938281615925838, max_delta_step=1, max_depth=9, min_child_weight=2, subsample=0.6381390880903373 -   3.1s\n",
      "[CV] colsample_bytree=0.9848530569299614, learning_rate=0.20938281615925838, max_delta_step=1, max_depth=9, min_child_weight=2, subsample=0.6381390880903373 \n"
     ]
    },
    {
     "name": "stderr",
     "output_type": "stream",
     "text": [
      "/Users/oi.akihito/.pyenv/versions/3.6.1/lib/python3.6/site-packages/sklearn/preprocessing/label.py:151: DeprecationWarning: The truth value of an empty array is ambiguous. Returning False, but in future this will result in an error. Use `array.size > 0` to check that an array is not empty.\n",
      "  if diff:\n"
     ]
    },
    {
     "name": "stdout",
     "output_type": "stream",
     "text": [
      "[CV]  colsample_bytree=0.9848530569299614, learning_rate=0.20938281615925838, max_delta_step=1, max_depth=9, min_child_weight=2, subsample=0.6381390880903373 -   3.2s\n",
      "[CV] colsample_bytree=0.9848530569299614, learning_rate=0.20938281615925838, max_delta_step=1, max_depth=9, min_child_weight=2, subsample=0.6381390880903373 \n"
     ]
    },
    {
     "name": "stderr",
     "output_type": "stream",
     "text": [
      "/Users/oi.akihito/.pyenv/versions/3.6.1/lib/python3.6/site-packages/sklearn/preprocessing/label.py:151: DeprecationWarning: The truth value of an empty array is ambiguous. Returning False, but in future this will result in an error. Use `array.size > 0` to check that an array is not empty.\n",
      "  if diff:\n"
     ]
    },
    {
     "name": "stdout",
     "output_type": "stream",
     "text": [
      "[CV]  colsample_bytree=0.9848530569299614, learning_rate=0.20938281615925838, max_delta_step=1, max_depth=9, min_child_weight=2, subsample=0.6381390880903373 -   3.4s\n",
      "[CV] colsample_bytree=0.9848530569299614, learning_rate=0.20938281615925838, max_delta_step=1, max_depth=9, min_child_weight=2, subsample=0.6381390880903373 \n"
     ]
    },
    {
     "name": "stderr",
     "output_type": "stream",
     "text": [
      "/Users/oi.akihito/.pyenv/versions/3.6.1/lib/python3.6/site-packages/sklearn/preprocessing/label.py:151: DeprecationWarning: The truth value of an empty array is ambiguous. Returning False, but in future this will result in an error. Use `array.size > 0` to check that an array is not empty.\n",
      "  if diff:\n"
     ]
    },
    {
     "name": "stdout",
     "output_type": "stream",
     "text": [
      "[CV]  colsample_bytree=0.9848530569299614, learning_rate=0.20938281615925838, max_delta_step=1, max_depth=9, min_child_weight=2, subsample=0.6381390880903373 -   3.1s\n",
      "[CV] colsample_bytree=0.5749555057817686, learning_rate=0.20726546087404463, max_delta_step=9, max_depth=10, min_child_weight=2, subsample=0.8784665789595438 \n"
     ]
    },
    {
     "name": "stderr",
     "output_type": "stream",
     "text": [
      "/Users/oi.akihito/.pyenv/versions/3.6.1/lib/python3.6/site-packages/sklearn/preprocessing/label.py:151: DeprecationWarning: The truth value of an empty array is ambiguous. Returning False, but in future this will result in an error. Use `array.size > 0` to check that an array is not empty.\n",
      "  if diff:\n"
     ]
    },
    {
     "name": "stdout",
     "output_type": "stream",
     "text": [
      "[CV]  colsample_bytree=0.5749555057817686, learning_rate=0.20726546087404463, max_delta_step=9, max_depth=10, min_child_weight=2, subsample=0.8784665789595438 -   2.5s\n",
      "[CV] colsample_bytree=0.5749555057817686, learning_rate=0.20726546087404463, max_delta_step=9, max_depth=10, min_child_weight=2, subsample=0.8784665789595438 \n"
     ]
    },
    {
     "name": "stderr",
     "output_type": "stream",
     "text": [
      "/Users/oi.akihito/.pyenv/versions/3.6.1/lib/python3.6/site-packages/sklearn/preprocessing/label.py:151: DeprecationWarning: The truth value of an empty array is ambiguous. Returning False, but in future this will result in an error. Use `array.size > 0` to check that an array is not empty.\n",
      "  if diff:\n"
     ]
    },
    {
     "name": "stdout",
     "output_type": "stream",
     "text": [
      "[CV]  colsample_bytree=0.5749555057817686, learning_rate=0.20726546087404463, max_delta_step=9, max_depth=10, min_child_weight=2, subsample=0.8784665789595438 -   2.1s\n",
      "[CV] colsample_bytree=0.5749555057817686, learning_rate=0.20726546087404463, max_delta_step=9, max_depth=10, min_child_weight=2, subsample=0.8784665789595438 \n"
     ]
    },
    {
     "name": "stderr",
     "output_type": "stream",
     "text": [
      "/Users/oi.akihito/.pyenv/versions/3.6.1/lib/python3.6/site-packages/sklearn/preprocessing/label.py:151: DeprecationWarning: The truth value of an empty array is ambiguous. Returning False, but in future this will result in an error. Use `array.size > 0` to check that an array is not empty.\n",
      "  if diff:\n"
     ]
    },
    {
     "name": "stdout",
     "output_type": "stream",
     "text": [
      "[CV]  colsample_bytree=0.5749555057817686, learning_rate=0.20726546087404463, max_delta_step=9, max_depth=10, min_child_weight=2, subsample=0.8784665789595438 -   1.9s\n",
      "[CV] colsample_bytree=0.5749555057817686, learning_rate=0.20726546087404463, max_delta_step=9, max_depth=10, min_child_weight=2, subsample=0.8784665789595438 \n"
     ]
    },
    {
     "name": "stderr",
     "output_type": "stream",
     "text": [
      "/Users/oi.akihito/.pyenv/versions/3.6.1/lib/python3.6/site-packages/sklearn/preprocessing/label.py:151: DeprecationWarning: The truth value of an empty array is ambiguous. Returning False, but in future this will result in an error. Use `array.size > 0` to check that an array is not empty.\n",
      "  if diff:\n"
     ]
    },
    {
     "name": "stdout",
     "output_type": "stream",
     "text": [
      "[CV]  colsample_bytree=0.5749555057817686, learning_rate=0.20726546087404463, max_delta_step=9, max_depth=10, min_child_weight=2, subsample=0.8784665789595438 -   2.0s\n",
      "[CV] colsample_bytree=0.5749555057817686, learning_rate=0.20726546087404463, max_delta_step=9, max_depth=10, min_child_weight=2, subsample=0.8784665789595438 \n"
     ]
    },
    {
     "name": "stderr",
     "output_type": "stream",
     "text": [
      "/Users/oi.akihito/.pyenv/versions/3.6.1/lib/python3.6/site-packages/sklearn/preprocessing/label.py:151: DeprecationWarning: The truth value of an empty array is ambiguous. Returning False, but in future this will result in an error. Use `array.size > 0` to check that an array is not empty.\n",
      "  if diff:\n"
     ]
    },
    {
     "name": "stdout",
     "output_type": "stream",
     "text": [
      "[CV]  colsample_bytree=0.5749555057817686, learning_rate=0.20726546087404463, max_delta_step=9, max_depth=10, min_child_weight=2, subsample=0.8784665789595438 -   2.0s\n",
      "[CV] colsample_bytree=0.6461082528565997, learning_rate=0.18125464149328266, max_delta_step=3, max_depth=8, min_child_weight=2, subsample=0.7158128962640034 \n"
     ]
    },
    {
     "name": "stderr",
     "output_type": "stream",
     "text": [
      "/Users/oi.akihito/.pyenv/versions/3.6.1/lib/python3.6/site-packages/sklearn/preprocessing/label.py:151: DeprecationWarning: The truth value of an empty array is ambiguous. Returning False, but in future this will result in an error. Use `array.size > 0` to check that an array is not empty.\n",
      "  if diff:\n"
     ]
    },
    {
     "name": "stdout",
     "output_type": "stream",
     "text": [
      "[CV]  colsample_bytree=0.6461082528565997, learning_rate=0.18125464149328266, max_delta_step=3, max_depth=8, min_child_weight=2, subsample=0.7158128962640034 -   2.4s\n",
      "[CV] colsample_bytree=0.6461082528565997, learning_rate=0.18125464149328266, max_delta_step=3, max_depth=8, min_child_weight=2, subsample=0.7158128962640034 \n"
     ]
    },
    {
     "name": "stderr",
     "output_type": "stream",
     "text": [
      "/Users/oi.akihito/.pyenv/versions/3.6.1/lib/python3.6/site-packages/sklearn/preprocessing/label.py:151: DeprecationWarning: The truth value of an empty array is ambiguous. Returning False, but in future this will result in an error. Use `array.size > 0` to check that an array is not empty.\n",
      "  if diff:\n"
     ]
    },
    {
     "name": "stdout",
     "output_type": "stream",
     "text": [
      "[CV]  colsample_bytree=0.6461082528565997, learning_rate=0.18125464149328266, max_delta_step=3, max_depth=8, min_child_weight=2, subsample=0.7158128962640034 -   2.2s\n",
      "[CV] colsample_bytree=0.6461082528565997, learning_rate=0.18125464149328266, max_delta_step=3, max_depth=8, min_child_weight=2, subsample=0.7158128962640034 \n"
     ]
    },
    {
     "name": "stderr",
     "output_type": "stream",
     "text": [
      "/Users/oi.akihito/.pyenv/versions/3.6.1/lib/python3.6/site-packages/sklearn/preprocessing/label.py:151: DeprecationWarning: The truth value of an empty array is ambiguous. Returning False, but in future this will result in an error. Use `array.size > 0` to check that an array is not empty.\n",
      "  if diff:\n"
     ]
    },
    {
     "name": "stdout",
     "output_type": "stream",
     "text": [
      "[CV]  colsample_bytree=0.6461082528565997, learning_rate=0.18125464149328266, max_delta_step=3, max_depth=8, min_child_weight=2, subsample=0.7158128962640034 -   2.1s\n",
      "[CV] colsample_bytree=0.6461082528565997, learning_rate=0.18125464149328266, max_delta_step=3, max_depth=8, min_child_weight=2, subsample=0.7158128962640034 \n"
     ]
    },
    {
     "name": "stderr",
     "output_type": "stream",
     "text": [
      "/Users/oi.akihito/.pyenv/versions/3.6.1/lib/python3.6/site-packages/sklearn/preprocessing/label.py:151: DeprecationWarning: The truth value of an empty array is ambiguous. Returning False, but in future this will result in an error. Use `array.size > 0` to check that an array is not empty.\n",
      "  if diff:\n"
     ]
    },
    {
     "name": "stdout",
     "output_type": "stream",
     "text": [
      "[CV]  colsample_bytree=0.6461082528565997, learning_rate=0.18125464149328266, max_delta_step=3, max_depth=8, min_child_weight=2, subsample=0.7158128962640034 -   2.0s\n",
      "[CV] colsample_bytree=0.6461082528565997, learning_rate=0.18125464149328266, max_delta_step=3, max_depth=8, min_child_weight=2, subsample=0.7158128962640034 \n"
     ]
    },
    {
     "name": "stderr",
     "output_type": "stream",
     "text": [
      "/Users/oi.akihito/.pyenv/versions/3.6.1/lib/python3.6/site-packages/sklearn/preprocessing/label.py:151: DeprecationWarning: The truth value of an empty array is ambiguous. Returning False, but in future this will result in an error. Use `array.size > 0` to check that an array is not empty.\n",
      "  if diff:\n"
     ]
    },
    {
     "name": "stdout",
     "output_type": "stream",
     "text": [
      "[CV]  colsample_bytree=0.6461082528565997, learning_rate=0.18125464149328266, max_delta_step=3, max_depth=8, min_child_weight=2, subsample=0.7158128962640034 -   2.0s\n",
      "[CV] colsample_bytree=0.6351645883820018, learning_rate=0.07398628951872731, max_delta_step=6, max_depth=5, min_child_weight=3, subsample=0.6289236805291202 \n"
     ]
    },
    {
     "name": "stderr",
     "output_type": "stream",
     "text": [
      "/Users/oi.akihito/.pyenv/versions/3.6.1/lib/python3.6/site-packages/sklearn/preprocessing/label.py:151: DeprecationWarning: The truth value of an empty array is ambiguous. Returning False, but in future this will result in an error. Use `array.size > 0` to check that an array is not empty.\n",
      "  if diff:\n"
     ]
    },
    {
     "name": "stdout",
     "output_type": "stream",
     "text": [
      "[CV]  colsample_bytree=0.6351645883820018, learning_rate=0.07398628951872731, max_delta_step=6, max_depth=5, min_child_weight=3, subsample=0.6289236805291202 -   1.4s\n",
      "[CV] colsample_bytree=0.6351645883820018, learning_rate=0.07398628951872731, max_delta_step=6, max_depth=5, min_child_weight=3, subsample=0.6289236805291202 \n"
     ]
    },
    {
     "name": "stderr",
     "output_type": "stream",
     "text": [
      "/Users/oi.akihito/.pyenv/versions/3.6.1/lib/python3.6/site-packages/sklearn/preprocessing/label.py:151: DeprecationWarning: The truth value of an empty array is ambiguous. Returning False, but in future this will result in an error. Use `array.size > 0` to check that an array is not empty.\n",
      "  if diff:\n"
     ]
    },
    {
     "name": "stdout",
     "output_type": "stream",
     "text": [
      "[CV]  colsample_bytree=0.6351645883820018, learning_rate=0.07398628951872731, max_delta_step=6, max_depth=5, min_child_weight=3, subsample=0.6289236805291202 -   1.4s\n",
      "[CV] colsample_bytree=0.6351645883820018, learning_rate=0.07398628951872731, max_delta_step=6, max_depth=5, min_child_weight=3, subsample=0.6289236805291202 \n"
     ]
    },
    {
     "name": "stderr",
     "output_type": "stream",
     "text": [
      "/Users/oi.akihito/.pyenv/versions/3.6.1/lib/python3.6/site-packages/sklearn/preprocessing/label.py:151: DeprecationWarning: The truth value of an empty array is ambiguous. Returning False, but in future this will result in an error. Use `array.size > 0` to check that an array is not empty.\n",
      "  if diff:\n"
     ]
    },
    {
     "name": "stdout",
     "output_type": "stream",
     "text": [
      "[CV]  colsample_bytree=0.6351645883820018, learning_rate=0.07398628951872731, max_delta_step=6, max_depth=5, min_child_weight=3, subsample=0.6289236805291202 -   1.5s\n",
      "[CV] colsample_bytree=0.6351645883820018, learning_rate=0.07398628951872731, max_delta_step=6, max_depth=5, min_child_weight=3, subsample=0.6289236805291202 \n"
     ]
    },
    {
     "name": "stderr",
     "output_type": "stream",
     "text": [
      "/Users/oi.akihito/.pyenv/versions/3.6.1/lib/python3.6/site-packages/sklearn/preprocessing/label.py:151: DeprecationWarning: The truth value of an empty array is ambiguous. Returning False, but in future this will result in an error. Use `array.size > 0` to check that an array is not empty.\n",
      "  if diff:\n"
     ]
    },
    {
     "name": "stdout",
     "output_type": "stream",
     "text": [
      "[CV]  colsample_bytree=0.6351645883820018, learning_rate=0.07398628951872731, max_delta_step=6, max_depth=5, min_child_weight=3, subsample=0.6289236805291202 -   1.4s\n",
      "[CV] colsample_bytree=0.6351645883820018, learning_rate=0.07398628951872731, max_delta_step=6, max_depth=5, min_child_weight=3, subsample=0.6289236805291202 \n"
     ]
    },
    {
     "name": "stderr",
     "output_type": "stream",
     "text": [
      "/Users/oi.akihito/.pyenv/versions/3.6.1/lib/python3.6/site-packages/sklearn/preprocessing/label.py:151: DeprecationWarning: The truth value of an empty array is ambiguous. Returning False, but in future this will result in an error. Use `array.size > 0` to check that an array is not empty.\n",
      "  if diff:\n"
     ]
    },
    {
     "name": "stdout",
     "output_type": "stream",
     "text": [
      "[CV]  colsample_bytree=0.6351645883820018, learning_rate=0.07398628951872731, max_delta_step=6, max_depth=5, min_child_weight=3, subsample=0.6289236805291202 -   1.4s\n",
      "[CV] colsample_bytree=0.8748006855284165, learning_rate=0.17651989376424287, max_delta_step=7, max_depth=9, min_child_weight=3, subsample=0.7391827147546315 \n"
     ]
    },
    {
     "name": "stderr",
     "output_type": "stream",
     "text": [
      "/Users/oi.akihito/.pyenv/versions/3.6.1/lib/python3.6/site-packages/sklearn/preprocessing/label.py:151: DeprecationWarning: The truth value of an empty array is ambiguous. Returning False, but in future this will result in an error. Use `array.size > 0` to check that an array is not empty.\n",
      "  if diff:\n"
     ]
    },
    {
     "name": "stdout",
     "output_type": "stream",
     "text": [
      "[CV]  colsample_bytree=0.8748006855284165, learning_rate=0.17651989376424287, max_delta_step=7, max_depth=9, min_child_weight=3, subsample=0.7391827147546315 -   2.7s\n",
      "[CV] colsample_bytree=0.8748006855284165, learning_rate=0.17651989376424287, max_delta_step=7, max_depth=9, min_child_weight=3, subsample=0.7391827147546315 \n"
     ]
    },
    {
     "name": "stderr",
     "output_type": "stream",
     "text": [
      "/Users/oi.akihito/.pyenv/versions/3.6.1/lib/python3.6/site-packages/sklearn/preprocessing/label.py:151: DeprecationWarning: The truth value of an empty array is ambiguous. Returning False, but in future this will result in an error. Use `array.size > 0` to check that an array is not empty.\n",
      "  if diff:\n"
     ]
    },
    {
     "name": "stdout",
     "output_type": "stream",
     "text": [
      "[CV]  colsample_bytree=0.8748006855284165, learning_rate=0.17651989376424287, max_delta_step=7, max_depth=9, min_child_weight=3, subsample=0.7391827147546315 -   2.7s\n",
      "[CV] colsample_bytree=0.8748006855284165, learning_rate=0.17651989376424287, max_delta_step=7, max_depth=9, min_child_weight=3, subsample=0.7391827147546315 \n"
     ]
    },
    {
     "name": "stderr",
     "output_type": "stream",
     "text": [
      "/Users/oi.akihito/.pyenv/versions/3.6.1/lib/python3.6/site-packages/sklearn/preprocessing/label.py:151: DeprecationWarning: The truth value of an empty array is ambiguous. Returning False, but in future this will result in an error. Use `array.size > 0` to check that an array is not empty.\n",
      "  if diff:\n"
     ]
    },
    {
     "name": "stdout",
     "output_type": "stream",
     "text": [
      "[CV]  colsample_bytree=0.8748006855284165, learning_rate=0.17651989376424287, max_delta_step=7, max_depth=9, min_child_weight=3, subsample=0.7391827147546315 -   2.7s\n",
      "[CV] colsample_bytree=0.8748006855284165, learning_rate=0.17651989376424287, max_delta_step=7, max_depth=9, min_child_weight=3, subsample=0.7391827147546315 \n"
     ]
    },
    {
     "name": "stderr",
     "output_type": "stream",
     "text": [
      "/Users/oi.akihito/.pyenv/versions/3.6.1/lib/python3.6/site-packages/sklearn/preprocessing/label.py:151: DeprecationWarning: The truth value of an empty array is ambiguous. Returning False, but in future this will result in an error. Use `array.size > 0` to check that an array is not empty.\n",
      "  if diff:\n"
     ]
    },
    {
     "name": "stdout",
     "output_type": "stream",
     "text": [
      "[CV]  colsample_bytree=0.8748006855284165, learning_rate=0.17651989376424287, max_delta_step=7, max_depth=9, min_child_weight=3, subsample=0.7391827147546315 -   2.6s\n",
      "[CV] colsample_bytree=0.8748006855284165, learning_rate=0.17651989376424287, max_delta_step=7, max_depth=9, min_child_weight=3, subsample=0.7391827147546315 \n"
     ]
    },
    {
     "name": "stderr",
     "output_type": "stream",
     "text": [
      "/Users/oi.akihito/.pyenv/versions/3.6.1/lib/python3.6/site-packages/sklearn/preprocessing/label.py:151: DeprecationWarning: The truth value of an empty array is ambiguous. Returning False, but in future this will result in an error. Use `array.size > 0` to check that an array is not empty.\n",
      "  if diff:\n"
     ]
    },
    {
     "name": "stdout",
     "output_type": "stream",
     "text": [
      "[CV]  colsample_bytree=0.8748006855284165, learning_rate=0.17651989376424287, max_delta_step=7, max_depth=9, min_child_weight=3, subsample=0.7391827147546315 -   2.7s\n",
      "[CV] colsample_bytree=0.7413120309648815, learning_rate=0.047096698215669655, max_delta_step=10, max_depth=9, min_child_weight=2, subsample=0.6103991129999844 \n"
     ]
    },
    {
     "name": "stderr",
     "output_type": "stream",
     "text": [
      "/Users/oi.akihito/.pyenv/versions/3.6.1/lib/python3.6/site-packages/sklearn/preprocessing/label.py:151: DeprecationWarning: The truth value of an empty array is ambiguous. Returning False, but in future this will result in an error. Use `array.size > 0` to check that an array is not empty.\n",
      "  if diff:\n"
     ]
    },
    {
     "name": "stdout",
     "output_type": "stream",
     "text": [
      "[CV]  colsample_bytree=0.7413120309648815, learning_rate=0.047096698215669655, max_delta_step=10, max_depth=9, min_child_weight=2, subsample=0.6103991129999844 -   2.6s\n",
      "[CV] colsample_bytree=0.7413120309648815, learning_rate=0.047096698215669655, max_delta_step=10, max_depth=9, min_child_weight=2, subsample=0.6103991129999844 \n"
     ]
    },
    {
     "name": "stderr",
     "output_type": "stream",
     "text": [
      "/Users/oi.akihito/.pyenv/versions/3.6.1/lib/python3.6/site-packages/sklearn/preprocessing/label.py:151: DeprecationWarning: The truth value of an empty array is ambiguous. Returning False, but in future this will result in an error. Use `array.size > 0` to check that an array is not empty.\n",
      "  if diff:\n"
     ]
    },
    {
     "name": "stdout",
     "output_type": "stream",
     "text": [
      "[CV]  colsample_bytree=0.7413120309648815, learning_rate=0.047096698215669655, max_delta_step=10, max_depth=9, min_child_weight=2, subsample=0.6103991129999844 -   2.7s\n",
      "[CV] colsample_bytree=0.7413120309648815, learning_rate=0.047096698215669655, max_delta_step=10, max_depth=9, min_child_weight=2, subsample=0.6103991129999844 \n"
     ]
    },
    {
     "name": "stderr",
     "output_type": "stream",
     "text": [
      "/Users/oi.akihito/.pyenv/versions/3.6.1/lib/python3.6/site-packages/sklearn/preprocessing/label.py:151: DeprecationWarning: The truth value of an empty array is ambiguous. Returning False, but in future this will result in an error. Use `array.size > 0` to check that an array is not empty.\n",
      "  if diff:\n"
     ]
    },
    {
     "name": "stdout",
     "output_type": "stream",
     "text": [
      "[CV]  colsample_bytree=0.7413120309648815, learning_rate=0.047096698215669655, max_delta_step=10, max_depth=9, min_child_weight=2, subsample=0.6103991129999844 -   2.7s\n",
      "[CV] colsample_bytree=0.7413120309648815, learning_rate=0.047096698215669655, max_delta_step=10, max_depth=9, min_child_weight=2, subsample=0.6103991129999844 \n"
     ]
    },
    {
     "name": "stderr",
     "output_type": "stream",
     "text": [
      "/Users/oi.akihito/.pyenv/versions/3.6.1/lib/python3.6/site-packages/sklearn/preprocessing/label.py:151: DeprecationWarning: The truth value of an empty array is ambiguous. Returning False, but in future this will result in an error. Use `array.size > 0` to check that an array is not empty.\n",
      "  if diff:\n"
     ]
    },
    {
     "name": "stdout",
     "output_type": "stream",
     "text": [
      "[CV]  colsample_bytree=0.7413120309648815, learning_rate=0.047096698215669655, max_delta_step=10, max_depth=9, min_child_weight=2, subsample=0.6103991129999844 -   2.7s\n",
      "[CV] colsample_bytree=0.7413120309648815, learning_rate=0.047096698215669655, max_delta_step=10, max_depth=9, min_child_weight=2, subsample=0.6103991129999844 \n"
     ]
    },
    {
     "name": "stderr",
     "output_type": "stream",
     "text": [
      "/Users/oi.akihito/.pyenv/versions/3.6.1/lib/python3.6/site-packages/sklearn/preprocessing/label.py:151: DeprecationWarning: The truth value of an empty array is ambiguous. Returning False, but in future this will result in an error. Use `array.size > 0` to check that an array is not empty.\n",
      "  if diff:\n"
     ]
    },
    {
     "name": "stdout",
     "output_type": "stream",
     "text": [
      "[CV]  colsample_bytree=0.7413120309648815, learning_rate=0.047096698215669655, max_delta_step=10, max_depth=9, min_child_weight=2, subsample=0.6103991129999844 -   2.7s\n",
      "[CV] colsample_bytree=0.63034213521941, learning_rate=0.17046248012267037, max_delta_step=1, max_depth=4, min_child_weight=4, subsample=0.5602301944354231 \n"
     ]
    },
    {
     "name": "stderr",
     "output_type": "stream",
     "text": [
      "/Users/oi.akihito/.pyenv/versions/3.6.1/lib/python3.6/site-packages/sklearn/preprocessing/label.py:151: DeprecationWarning: The truth value of an empty array is ambiguous. Returning False, but in future this will result in an error. Use `array.size > 0` to check that an array is not empty.\n",
      "  if diff:\n"
     ]
    },
    {
     "name": "stdout",
     "output_type": "stream",
     "text": [
      "[CV]  colsample_bytree=0.63034213521941, learning_rate=0.17046248012267037, max_delta_step=1, max_depth=4, min_child_weight=4, subsample=0.5602301944354231 -   1.2s\n",
      "[CV] colsample_bytree=0.63034213521941, learning_rate=0.17046248012267037, max_delta_step=1, max_depth=4, min_child_weight=4, subsample=0.5602301944354231 \n"
     ]
    },
    {
     "name": "stderr",
     "output_type": "stream",
     "text": [
      "/Users/oi.akihito/.pyenv/versions/3.6.1/lib/python3.6/site-packages/sklearn/preprocessing/label.py:151: DeprecationWarning: The truth value of an empty array is ambiguous. Returning False, but in future this will result in an error. Use `array.size > 0` to check that an array is not empty.\n",
      "  if diff:\n"
     ]
    },
    {
     "name": "stdout",
     "output_type": "stream",
     "text": [
      "[CV]  colsample_bytree=0.63034213521941, learning_rate=0.17046248012267037, max_delta_step=1, max_depth=4, min_child_weight=4, subsample=0.5602301944354231 -   1.1s\n",
      "[CV] colsample_bytree=0.63034213521941, learning_rate=0.17046248012267037, max_delta_step=1, max_depth=4, min_child_weight=4, subsample=0.5602301944354231 \n"
     ]
    },
    {
     "name": "stderr",
     "output_type": "stream",
     "text": [
      "/Users/oi.akihito/.pyenv/versions/3.6.1/lib/python3.6/site-packages/sklearn/preprocessing/label.py:151: DeprecationWarning: The truth value of an empty array is ambiguous. Returning False, but in future this will result in an error. Use `array.size > 0` to check that an array is not empty.\n",
      "  if diff:\n"
     ]
    },
    {
     "name": "stdout",
     "output_type": "stream",
     "text": [
      "[CV]  colsample_bytree=0.63034213521941, learning_rate=0.17046248012267037, max_delta_step=1, max_depth=4, min_child_weight=4, subsample=0.5602301944354231 -   1.2s\n",
      "[CV] colsample_bytree=0.63034213521941, learning_rate=0.17046248012267037, max_delta_step=1, max_depth=4, min_child_weight=4, subsample=0.5602301944354231 \n"
     ]
    },
    {
     "name": "stderr",
     "output_type": "stream",
     "text": [
      "/Users/oi.akihito/.pyenv/versions/3.6.1/lib/python3.6/site-packages/sklearn/preprocessing/label.py:151: DeprecationWarning: The truth value of an empty array is ambiguous. Returning False, but in future this will result in an error. Use `array.size > 0` to check that an array is not empty.\n",
      "  if diff:\n"
     ]
    },
    {
     "name": "stdout",
     "output_type": "stream",
     "text": [
      "[CV]  colsample_bytree=0.63034213521941, learning_rate=0.17046248012267037, max_delta_step=1, max_depth=4, min_child_weight=4, subsample=0.5602301944354231 -   1.2s\n",
      "[CV] colsample_bytree=0.63034213521941, learning_rate=0.17046248012267037, max_delta_step=1, max_depth=4, min_child_weight=4, subsample=0.5602301944354231 \n"
     ]
    },
    {
     "name": "stderr",
     "output_type": "stream",
     "text": [
      "/Users/oi.akihito/.pyenv/versions/3.6.1/lib/python3.6/site-packages/sklearn/preprocessing/label.py:151: DeprecationWarning: The truth value of an empty array is ambiguous. Returning False, but in future this will result in an error. Use `array.size > 0` to check that an array is not empty.\n",
      "  if diff:\n"
     ]
    },
    {
     "name": "stdout",
     "output_type": "stream",
     "text": [
      "[CV]  colsample_bytree=0.63034213521941, learning_rate=0.17046248012267037, max_delta_step=1, max_depth=4, min_child_weight=4, subsample=0.5602301944354231 -   1.1s\n",
      "[CV] colsample_bytree=0.700832893376647, learning_rate=0.17328599073988737, max_delta_step=1, max_depth=9, min_child_weight=4, subsample=0.8518229682441198 \n"
     ]
    },
    {
     "name": "stderr",
     "output_type": "stream",
     "text": [
      "/Users/oi.akihito/.pyenv/versions/3.6.1/lib/python3.6/site-packages/sklearn/preprocessing/label.py:151: DeprecationWarning: The truth value of an empty array is ambiguous. Returning False, but in future this will result in an error. Use `array.size > 0` to check that an array is not empty.\n",
      "  if diff:\n"
     ]
    },
    {
     "name": "stdout",
     "output_type": "stream",
     "text": [
      "[CV]  colsample_bytree=0.700832893376647, learning_rate=0.17328599073988737, max_delta_step=1, max_depth=9, min_child_weight=4, subsample=0.8518229682441198 -   2.2s\n",
      "[CV] colsample_bytree=0.700832893376647, learning_rate=0.17328599073988737, max_delta_step=1, max_depth=9, min_child_weight=4, subsample=0.8518229682441198 \n"
     ]
    },
    {
     "name": "stderr",
     "output_type": "stream",
     "text": [
      "/Users/oi.akihito/.pyenv/versions/3.6.1/lib/python3.6/site-packages/sklearn/preprocessing/label.py:151: DeprecationWarning: The truth value of an empty array is ambiguous. Returning False, but in future this will result in an error. Use `array.size > 0` to check that an array is not empty.\n",
      "  if diff:\n"
     ]
    },
    {
     "name": "stdout",
     "output_type": "stream",
     "text": [
      "[CV]  colsample_bytree=0.700832893376647, learning_rate=0.17328599073988737, max_delta_step=1, max_depth=9, min_child_weight=4, subsample=0.8518229682441198 -   2.2s\n",
      "[CV] colsample_bytree=0.700832893376647, learning_rate=0.17328599073988737, max_delta_step=1, max_depth=9, min_child_weight=4, subsample=0.8518229682441198 \n"
     ]
    },
    {
     "name": "stderr",
     "output_type": "stream",
     "text": [
      "/Users/oi.akihito/.pyenv/versions/3.6.1/lib/python3.6/site-packages/sklearn/preprocessing/label.py:151: DeprecationWarning: The truth value of an empty array is ambiguous. Returning False, but in future this will result in an error. Use `array.size > 0` to check that an array is not empty.\n",
      "  if diff:\n"
     ]
    },
    {
     "name": "stdout",
     "output_type": "stream",
     "text": [
      "[CV]  colsample_bytree=0.700832893376647, learning_rate=0.17328599073988737, max_delta_step=1, max_depth=9, min_child_weight=4, subsample=0.8518229682441198 -   2.2s\n",
      "[CV] colsample_bytree=0.700832893376647, learning_rate=0.17328599073988737, max_delta_step=1, max_depth=9, min_child_weight=4, subsample=0.8518229682441198 \n"
     ]
    },
    {
     "name": "stderr",
     "output_type": "stream",
     "text": [
      "/Users/oi.akihito/.pyenv/versions/3.6.1/lib/python3.6/site-packages/sklearn/preprocessing/label.py:151: DeprecationWarning: The truth value of an empty array is ambiguous. Returning False, but in future this will result in an error. Use `array.size > 0` to check that an array is not empty.\n",
      "  if diff:\n"
     ]
    },
    {
     "name": "stdout",
     "output_type": "stream",
     "text": [
      "[CV]  colsample_bytree=0.700832893376647, learning_rate=0.17328599073988737, max_delta_step=1, max_depth=9, min_child_weight=4, subsample=0.8518229682441198 -   2.2s\n",
      "[CV] colsample_bytree=0.700832893376647, learning_rate=0.17328599073988737, max_delta_step=1, max_depth=9, min_child_weight=4, subsample=0.8518229682441198 \n"
     ]
    },
    {
     "name": "stderr",
     "output_type": "stream",
     "text": [
      "/Users/oi.akihito/.pyenv/versions/3.6.1/lib/python3.6/site-packages/sklearn/preprocessing/label.py:151: DeprecationWarning: The truth value of an empty array is ambiguous. Returning False, but in future this will result in an error. Use `array.size > 0` to check that an array is not empty.\n",
      "  if diff:\n"
     ]
    },
    {
     "name": "stdout",
     "output_type": "stream",
     "text": [
      "[CV]  colsample_bytree=0.700832893376647, learning_rate=0.17328599073988737, max_delta_step=1, max_depth=9, min_child_weight=4, subsample=0.8518229682441198 -   2.3s\n",
      "[CV] colsample_bytree=0.8822714763619601, learning_rate=0.13272690248712643, max_delta_step=1, max_depth=9, min_child_weight=1, subsample=0.704442983240945 \n"
     ]
    },
    {
     "name": "stderr",
     "output_type": "stream",
     "text": [
      "/Users/oi.akihito/.pyenv/versions/3.6.1/lib/python3.6/site-packages/sklearn/preprocessing/label.py:151: DeprecationWarning: The truth value of an empty array is ambiguous. Returning False, but in future this will result in an error. Use `array.size > 0` to check that an array is not empty.\n",
      "  if diff:\n"
     ]
    },
    {
     "name": "stdout",
     "output_type": "stream",
     "text": [
      "[CV]  colsample_bytree=0.8822714763619601, learning_rate=0.13272690248712643, max_delta_step=1, max_depth=9, min_child_weight=1, subsample=0.704442983240945 -   2.9s\n",
      "[CV] colsample_bytree=0.8822714763619601, learning_rate=0.13272690248712643, max_delta_step=1, max_depth=9, min_child_weight=1, subsample=0.704442983240945 \n"
     ]
    },
    {
     "name": "stderr",
     "output_type": "stream",
     "text": [
      "/Users/oi.akihito/.pyenv/versions/3.6.1/lib/python3.6/site-packages/sklearn/preprocessing/label.py:151: DeprecationWarning: The truth value of an empty array is ambiguous. Returning False, but in future this will result in an error. Use `array.size > 0` to check that an array is not empty.\n",
      "  if diff:\n"
     ]
    },
    {
     "name": "stdout",
     "output_type": "stream",
     "text": [
      "[CV]  colsample_bytree=0.8822714763619601, learning_rate=0.13272690248712643, max_delta_step=1, max_depth=9, min_child_weight=1, subsample=0.704442983240945 -   2.8s\n",
      "[CV] colsample_bytree=0.8822714763619601, learning_rate=0.13272690248712643, max_delta_step=1, max_depth=9, min_child_weight=1, subsample=0.704442983240945 \n"
     ]
    },
    {
     "name": "stderr",
     "output_type": "stream",
     "text": [
      "/Users/oi.akihito/.pyenv/versions/3.6.1/lib/python3.6/site-packages/sklearn/preprocessing/label.py:151: DeprecationWarning: The truth value of an empty array is ambiguous. Returning False, but in future this will result in an error. Use `array.size > 0` to check that an array is not empty.\n",
      "  if diff:\n"
     ]
    },
    {
     "name": "stdout",
     "output_type": "stream",
     "text": [
      "[CV]  colsample_bytree=0.8822714763619601, learning_rate=0.13272690248712643, max_delta_step=1, max_depth=9, min_child_weight=1, subsample=0.704442983240945 -   2.7s\n",
      "[CV] colsample_bytree=0.8822714763619601, learning_rate=0.13272690248712643, max_delta_step=1, max_depth=9, min_child_weight=1, subsample=0.704442983240945 \n"
     ]
    },
    {
     "name": "stderr",
     "output_type": "stream",
     "text": [
      "/Users/oi.akihito/.pyenv/versions/3.6.1/lib/python3.6/site-packages/sklearn/preprocessing/label.py:151: DeprecationWarning: The truth value of an empty array is ambiguous. Returning False, but in future this will result in an error. Use `array.size > 0` to check that an array is not empty.\n",
      "  if diff:\n"
     ]
    },
    {
     "name": "stdout",
     "output_type": "stream",
     "text": [
      "[CV]  colsample_bytree=0.8822714763619601, learning_rate=0.13272690248712643, max_delta_step=1, max_depth=9, min_child_weight=1, subsample=0.704442983240945 -   2.9s\n",
      "[CV] colsample_bytree=0.8822714763619601, learning_rate=0.13272690248712643, max_delta_step=1, max_depth=9, min_child_weight=1, subsample=0.704442983240945 \n"
     ]
    },
    {
     "name": "stderr",
     "output_type": "stream",
     "text": [
      "/Users/oi.akihito/.pyenv/versions/3.6.1/lib/python3.6/site-packages/sklearn/preprocessing/label.py:151: DeprecationWarning: The truth value of an empty array is ambiguous. Returning False, but in future this will result in an error. Use `array.size > 0` to check that an array is not empty.\n",
      "  if diff:\n"
     ]
    },
    {
     "name": "stdout",
     "output_type": "stream",
     "text": [
      "[CV]  colsample_bytree=0.8822714763619601, learning_rate=0.13272690248712643, max_delta_step=1, max_depth=9, min_child_weight=1, subsample=0.704442983240945 -   2.9s\n",
      "[CV] colsample_bytree=0.7040630869495318, learning_rate=0.16404368745999554, max_delta_step=2, max_depth=3, min_child_weight=2, subsample=0.9748207282072314 \n"
     ]
    },
    {
     "name": "stderr",
     "output_type": "stream",
     "text": [
      "/Users/oi.akihito/.pyenv/versions/3.6.1/lib/python3.6/site-packages/sklearn/preprocessing/label.py:151: DeprecationWarning: The truth value of an empty array is ambiguous. Returning False, but in future this will result in an error. Use `array.size > 0` to check that an array is not empty.\n",
      "  if diff:\n"
     ]
    },
    {
     "name": "stdout",
     "output_type": "stream",
     "text": [
      "[CV]  colsample_bytree=0.7040630869495318, learning_rate=0.16404368745999554, max_delta_step=2, max_depth=3, min_child_weight=2, subsample=0.9748207282072314 -   0.8s\n",
      "[CV] colsample_bytree=0.7040630869495318, learning_rate=0.16404368745999554, max_delta_step=2, max_depth=3, min_child_weight=2, subsample=0.9748207282072314 \n"
     ]
    },
    {
     "name": "stderr",
     "output_type": "stream",
     "text": [
      "/Users/oi.akihito/.pyenv/versions/3.6.1/lib/python3.6/site-packages/sklearn/preprocessing/label.py:151: DeprecationWarning: The truth value of an empty array is ambiguous. Returning False, but in future this will result in an error. Use `array.size > 0` to check that an array is not empty.\n",
      "  if diff:\n"
     ]
    },
    {
     "name": "stdout",
     "output_type": "stream",
     "text": [
      "[CV]  colsample_bytree=0.7040630869495318, learning_rate=0.16404368745999554, max_delta_step=2, max_depth=3, min_child_weight=2, subsample=0.9748207282072314 -   0.8s\n",
      "[CV] colsample_bytree=0.7040630869495318, learning_rate=0.16404368745999554, max_delta_step=2, max_depth=3, min_child_weight=2, subsample=0.9748207282072314 \n"
     ]
    },
    {
     "name": "stderr",
     "output_type": "stream",
     "text": [
      "/Users/oi.akihito/.pyenv/versions/3.6.1/lib/python3.6/site-packages/sklearn/preprocessing/label.py:151: DeprecationWarning: The truth value of an empty array is ambiguous. Returning False, but in future this will result in an error. Use `array.size > 0` to check that an array is not empty.\n",
      "  if diff:\n"
     ]
    },
    {
     "name": "stdout",
     "output_type": "stream",
     "text": [
      "[CV]  colsample_bytree=0.7040630869495318, learning_rate=0.16404368745999554, max_delta_step=2, max_depth=3, min_child_weight=2, subsample=0.9748207282072314 -   0.8s\n",
      "[CV] colsample_bytree=0.7040630869495318, learning_rate=0.16404368745999554, max_delta_step=2, max_depth=3, min_child_weight=2, subsample=0.9748207282072314 \n"
     ]
    },
    {
     "name": "stderr",
     "output_type": "stream",
     "text": [
      "/Users/oi.akihito/.pyenv/versions/3.6.1/lib/python3.6/site-packages/sklearn/preprocessing/label.py:151: DeprecationWarning: The truth value of an empty array is ambiguous. Returning False, but in future this will result in an error. Use `array.size > 0` to check that an array is not empty.\n",
      "  if diff:\n"
     ]
    },
    {
     "name": "stdout",
     "output_type": "stream",
     "text": [
      "[CV]  colsample_bytree=0.7040630869495318, learning_rate=0.16404368745999554, max_delta_step=2, max_depth=3, min_child_weight=2, subsample=0.9748207282072314 -   0.8s\n",
      "[CV] colsample_bytree=0.7040630869495318, learning_rate=0.16404368745999554, max_delta_step=2, max_depth=3, min_child_weight=2, subsample=0.9748207282072314 \n"
     ]
    },
    {
     "name": "stderr",
     "output_type": "stream",
     "text": [
      "/Users/oi.akihito/.pyenv/versions/3.6.1/lib/python3.6/site-packages/sklearn/preprocessing/label.py:151: DeprecationWarning: The truth value of an empty array is ambiguous. Returning False, but in future this will result in an error. Use `array.size > 0` to check that an array is not empty.\n",
      "  if diff:\n"
     ]
    },
    {
     "name": "stdout",
     "output_type": "stream",
     "text": [
      "[CV]  colsample_bytree=0.7040630869495318, learning_rate=0.16404368745999554, max_delta_step=2, max_depth=3, min_child_weight=2, subsample=0.9748207282072314 -   0.8s\n",
      "[CV] colsample_bytree=0.5888884333801845, learning_rate=0.012694220779145384, max_delta_step=8, max_depth=8, min_child_weight=3, subsample=0.7885855240163836 \n"
     ]
    },
    {
     "name": "stderr",
     "output_type": "stream",
     "text": [
      "/Users/oi.akihito/.pyenv/versions/3.6.1/lib/python3.6/site-packages/sklearn/preprocessing/label.py:151: DeprecationWarning: The truth value of an empty array is ambiguous. Returning False, but in future this will result in an error. Use `array.size > 0` to check that an array is not empty.\n",
      "  if diff:\n",
      "/Users/oi.akihito/.pyenv/versions/3.6.1/lib/python3.6/site-packages/sklearn/metrics/classification.py:1135: UndefinedMetricWarning: F-score is ill-defined and being set to 0.0 due to no predicted samples.\n",
      "  'precision', 'predicted', average, warn_for)\n"
     ]
    },
    {
     "name": "stdout",
     "output_type": "stream",
     "text": [
      "[CV]  colsample_bytree=0.5888884333801845, learning_rate=0.012694220779145384, max_delta_step=8, max_depth=8, min_child_weight=3, subsample=0.7885855240163836 -   1.8s\n",
      "[CV] colsample_bytree=0.5888884333801845, learning_rate=0.012694220779145384, max_delta_step=8, max_depth=8, min_child_weight=3, subsample=0.7885855240163836 \n"
     ]
    },
    {
     "name": "stderr",
     "output_type": "stream",
     "text": [
      "/Users/oi.akihito/.pyenv/versions/3.6.1/lib/python3.6/site-packages/sklearn/preprocessing/label.py:151: DeprecationWarning: The truth value of an empty array is ambiguous. Returning False, but in future this will result in an error. Use `array.size > 0` to check that an array is not empty.\n",
      "  if diff:\n",
      "/Users/oi.akihito/.pyenv/versions/3.6.1/lib/python3.6/site-packages/sklearn/metrics/classification.py:1135: UndefinedMetricWarning: F-score is ill-defined and being set to 0.0 due to no predicted samples.\n",
      "  'precision', 'predicted', average, warn_for)\n"
     ]
    },
    {
     "name": "stdout",
     "output_type": "stream",
     "text": [
      "[CV]  colsample_bytree=0.5888884333801845, learning_rate=0.012694220779145384, max_delta_step=8, max_depth=8, min_child_weight=3, subsample=0.7885855240163836 -   1.7s\n",
      "[CV] colsample_bytree=0.5888884333801845, learning_rate=0.012694220779145384, max_delta_step=8, max_depth=8, min_child_weight=3, subsample=0.7885855240163836 \n"
     ]
    },
    {
     "name": "stderr",
     "output_type": "stream",
     "text": [
      "/Users/oi.akihito/.pyenv/versions/3.6.1/lib/python3.6/site-packages/sklearn/preprocessing/label.py:151: DeprecationWarning: The truth value of an empty array is ambiguous. Returning False, but in future this will result in an error. Use `array.size > 0` to check that an array is not empty.\n",
      "  if diff:\n",
      "/Users/oi.akihito/.pyenv/versions/3.6.1/lib/python3.6/site-packages/sklearn/metrics/classification.py:1135: UndefinedMetricWarning: F-score is ill-defined and being set to 0.0 due to no predicted samples.\n",
      "  'precision', 'predicted', average, warn_for)\n"
     ]
    },
    {
     "name": "stdout",
     "output_type": "stream",
     "text": [
      "[CV]  colsample_bytree=0.5888884333801845, learning_rate=0.012694220779145384, max_delta_step=8, max_depth=8, min_child_weight=3, subsample=0.7885855240163836 -   1.8s\n",
      "[CV] colsample_bytree=0.5888884333801845, learning_rate=0.012694220779145384, max_delta_step=8, max_depth=8, min_child_weight=3, subsample=0.7885855240163836 \n"
     ]
    },
    {
     "name": "stderr",
     "output_type": "stream",
     "text": [
      "/Users/oi.akihito/.pyenv/versions/3.6.1/lib/python3.6/site-packages/sklearn/preprocessing/label.py:151: DeprecationWarning: The truth value of an empty array is ambiguous. Returning False, but in future this will result in an error. Use `array.size > 0` to check that an array is not empty.\n",
      "  if diff:\n",
      "/Users/oi.akihito/.pyenv/versions/3.6.1/lib/python3.6/site-packages/sklearn/metrics/classification.py:1135: UndefinedMetricWarning: F-score is ill-defined and being set to 0.0 due to no predicted samples.\n",
      "  'precision', 'predicted', average, warn_for)\n"
     ]
    },
    {
     "name": "stdout",
     "output_type": "stream",
     "text": [
      "[CV]  colsample_bytree=0.5888884333801845, learning_rate=0.012694220779145384, max_delta_step=8, max_depth=8, min_child_weight=3, subsample=0.7885855240163836 -   1.7s\n",
      "[CV] colsample_bytree=0.5888884333801845, learning_rate=0.012694220779145384, max_delta_step=8, max_depth=8, min_child_weight=3, subsample=0.7885855240163836 \n"
     ]
    },
    {
     "name": "stderr",
     "output_type": "stream",
     "text": [
      "/Users/oi.akihito/.pyenv/versions/3.6.1/lib/python3.6/site-packages/sklearn/preprocessing/label.py:151: DeprecationWarning: The truth value of an empty array is ambiguous. Returning False, but in future this will result in an error. Use `array.size > 0` to check that an array is not empty.\n",
      "  if diff:\n",
      "/Users/oi.akihito/.pyenv/versions/3.6.1/lib/python3.6/site-packages/sklearn/metrics/classification.py:1135: UndefinedMetricWarning: F-score is ill-defined and being set to 0.0 due to no predicted samples.\n",
      "  'precision', 'predicted', average, warn_for)\n"
     ]
    },
    {
     "name": "stdout",
     "output_type": "stream",
     "text": [
      "[CV]  colsample_bytree=0.5888884333801845, learning_rate=0.012694220779145384, max_delta_step=8, max_depth=8, min_child_weight=3, subsample=0.7885855240163836 -   1.7s\n",
      "[CV] colsample_bytree=0.9541726679780183, learning_rate=0.07914394264351908, max_delta_step=7, max_depth=10, min_child_weight=4, subsample=0.7618543319264136 \n"
     ]
    },
    {
     "name": "stderr",
     "output_type": "stream",
     "text": [
      "/Users/oi.akihito/.pyenv/versions/3.6.1/lib/python3.6/site-packages/sklearn/preprocessing/label.py:151: DeprecationWarning: The truth value of an empty array is ambiguous. Returning False, but in future this will result in an error. Use `array.size > 0` to check that an array is not empty.\n",
      "  if diff:\n"
     ]
    },
    {
     "name": "stdout",
     "output_type": "stream",
     "text": [
      "[CV]  colsample_bytree=0.9541726679780183, learning_rate=0.07914394264351908, max_delta_step=7, max_depth=10, min_child_weight=4, subsample=0.7618543319264136 -   3.3s\n",
      "[CV] colsample_bytree=0.9541726679780183, learning_rate=0.07914394264351908, max_delta_step=7, max_depth=10, min_child_weight=4, subsample=0.7618543319264136 \n"
     ]
    },
    {
     "name": "stderr",
     "output_type": "stream",
     "text": [
      "/Users/oi.akihito/.pyenv/versions/3.6.1/lib/python3.6/site-packages/sklearn/preprocessing/label.py:151: DeprecationWarning: The truth value of an empty array is ambiguous. Returning False, but in future this will result in an error. Use `array.size > 0` to check that an array is not empty.\n",
      "  if diff:\n"
     ]
    },
    {
     "name": "stdout",
     "output_type": "stream",
     "text": [
      "[CV]  colsample_bytree=0.9541726679780183, learning_rate=0.07914394264351908, max_delta_step=7, max_depth=10, min_child_weight=4, subsample=0.7618543319264136 -   3.3s\n",
      "[CV] colsample_bytree=0.9541726679780183, learning_rate=0.07914394264351908, max_delta_step=7, max_depth=10, min_child_weight=4, subsample=0.7618543319264136 \n"
     ]
    },
    {
     "name": "stderr",
     "output_type": "stream",
     "text": [
      "/Users/oi.akihito/.pyenv/versions/3.6.1/lib/python3.6/site-packages/sklearn/preprocessing/label.py:151: DeprecationWarning: The truth value of an empty array is ambiguous. Returning False, but in future this will result in an error. Use `array.size > 0` to check that an array is not empty.\n",
      "  if diff:\n"
     ]
    },
    {
     "name": "stdout",
     "output_type": "stream",
     "text": [
      "[CV]  colsample_bytree=0.9541726679780183, learning_rate=0.07914394264351908, max_delta_step=7, max_depth=10, min_child_weight=4, subsample=0.7618543319264136 -   3.1s\n",
      "[CV] colsample_bytree=0.9541726679780183, learning_rate=0.07914394264351908, max_delta_step=7, max_depth=10, min_child_weight=4, subsample=0.7618543319264136 \n"
     ]
    },
    {
     "name": "stderr",
     "output_type": "stream",
     "text": [
      "/Users/oi.akihito/.pyenv/versions/3.6.1/lib/python3.6/site-packages/sklearn/preprocessing/label.py:151: DeprecationWarning: The truth value of an empty array is ambiguous. Returning False, but in future this will result in an error. Use `array.size > 0` to check that an array is not empty.\n",
      "  if diff:\n"
     ]
    },
    {
     "name": "stdout",
     "output_type": "stream",
     "text": [
      "[CV]  colsample_bytree=0.9541726679780183, learning_rate=0.07914394264351908, max_delta_step=7, max_depth=10, min_child_weight=4, subsample=0.7618543319264136 -   3.1s\n",
      "[CV] colsample_bytree=0.9541726679780183, learning_rate=0.07914394264351908, max_delta_step=7, max_depth=10, min_child_weight=4, subsample=0.7618543319264136 \n"
     ]
    },
    {
     "name": "stderr",
     "output_type": "stream",
     "text": [
      "/Users/oi.akihito/.pyenv/versions/3.6.1/lib/python3.6/site-packages/sklearn/preprocessing/label.py:151: DeprecationWarning: The truth value of an empty array is ambiguous. Returning False, but in future this will result in an error. Use `array.size > 0` to check that an array is not empty.\n",
      "  if diff:\n"
     ]
    },
    {
     "name": "stdout",
     "output_type": "stream",
     "text": [
      "[CV]  colsample_bytree=0.9541726679780183, learning_rate=0.07914394264351908, max_delta_step=7, max_depth=10, min_child_weight=4, subsample=0.7618543319264136 -   3.3s\n",
      "[CV] colsample_bytree=0.5270916246106395, learning_rate=0.08450388492198212, max_delta_step=1, max_depth=10, min_child_weight=4, subsample=0.8601981816012652 \n"
     ]
    },
    {
     "name": "stderr",
     "output_type": "stream",
     "text": [
      "/Users/oi.akihito/.pyenv/versions/3.6.1/lib/python3.6/site-packages/sklearn/preprocessing/label.py:151: DeprecationWarning: The truth value of an empty array is ambiguous. Returning False, but in future this will result in an error. Use `array.size > 0` to check that an array is not empty.\n",
      "  if diff:\n"
     ]
    },
    {
     "name": "stdout",
     "output_type": "stream",
     "text": [
      "[CV]  colsample_bytree=0.5270916246106395, learning_rate=0.08450388492198212, max_delta_step=1, max_depth=10, min_child_weight=4, subsample=0.8601981816012652 -   2.1s\n",
      "[CV] colsample_bytree=0.5270916246106395, learning_rate=0.08450388492198212, max_delta_step=1, max_depth=10, min_child_weight=4, subsample=0.8601981816012652 \n"
     ]
    },
    {
     "name": "stderr",
     "output_type": "stream",
     "text": [
      "/Users/oi.akihito/.pyenv/versions/3.6.1/lib/python3.6/site-packages/sklearn/preprocessing/label.py:151: DeprecationWarning: The truth value of an empty array is ambiguous. Returning False, but in future this will result in an error. Use `array.size > 0` to check that an array is not empty.\n",
      "  if diff:\n"
     ]
    },
    {
     "name": "stdout",
     "output_type": "stream",
     "text": [
      "[CV]  colsample_bytree=0.5270916246106395, learning_rate=0.08450388492198212, max_delta_step=1, max_depth=10, min_child_weight=4, subsample=0.8601981816012652 -   1.8s\n",
      "[CV] colsample_bytree=0.5270916246106395, learning_rate=0.08450388492198212, max_delta_step=1, max_depth=10, min_child_weight=4, subsample=0.8601981816012652 \n"
     ]
    },
    {
     "name": "stderr",
     "output_type": "stream",
     "text": [
      "/Users/oi.akihito/.pyenv/versions/3.6.1/lib/python3.6/site-packages/sklearn/preprocessing/label.py:151: DeprecationWarning: The truth value of an empty array is ambiguous. Returning False, but in future this will result in an error. Use `array.size > 0` to check that an array is not empty.\n",
      "  if diff:\n"
     ]
    },
    {
     "name": "stdout",
     "output_type": "stream",
     "text": [
      "[CV]  colsample_bytree=0.5270916246106395, learning_rate=0.08450388492198212, max_delta_step=1, max_depth=10, min_child_weight=4, subsample=0.8601981816012652 -   1.8s\n",
      "[CV] colsample_bytree=0.5270916246106395, learning_rate=0.08450388492198212, max_delta_step=1, max_depth=10, min_child_weight=4, subsample=0.8601981816012652 \n"
     ]
    },
    {
     "name": "stderr",
     "output_type": "stream",
     "text": [
      "/Users/oi.akihito/.pyenv/versions/3.6.1/lib/python3.6/site-packages/sklearn/preprocessing/label.py:151: DeprecationWarning: The truth value of an empty array is ambiguous. Returning False, but in future this will result in an error. Use `array.size > 0` to check that an array is not empty.\n",
      "  if diff:\n"
     ]
    },
    {
     "name": "stdout",
     "output_type": "stream",
     "text": [
      "[CV]  colsample_bytree=0.5270916246106395, learning_rate=0.08450388492198212, max_delta_step=1, max_depth=10, min_child_weight=4, subsample=0.8601981816012652 -   1.8s\n",
      "[CV] colsample_bytree=0.5270916246106395, learning_rate=0.08450388492198212, max_delta_step=1, max_depth=10, min_child_weight=4, subsample=0.8601981816012652 \n"
     ]
    },
    {
     "name": "stderr",
     "output_type": "stream",
     "text": [
      "/Users/oi.akihito/.pyenv/versions/3.6.1/lib/python3.6/site-packages/sklearn/preprocessing/label.py:151: DeprecationWarning: The truth value of an empty array is ambiguous. Returning False, but in future this will result in an error. Use `array.size > 0` to check that an array is not empty.\n",
      "  if diff:\n"
     ]
    },
    {
     "name": "stdout",
     "output_type": "stream",
     "text": [
      "[CV]  colsample_bytree=0.5270916246106395, learning_rate=0.08450388492198212, max_delta_step=1, max_depth=10, min_child_weight=4, subsample=0.8601981816012652 -   1.8s\n",
      "[CV] colsample_bytree=0.5302600882326861, learning_rate=0.130860897017743, max_delta_step=6, max_depth=7, min_child_weight=1, subsample=0.5834576449351039 \n"
     ]
    },
    {
     "name": "stderr",
     "output_type": "stream",
     "text": [
      "/Users/oi.akihito/.pyenv/versions/3.6.1/lib/python3.6/site-packages/sklearn/preprocessing/label.py:151: DeprecationWarning: The truth value of an empty array is ambiguous. Returning False, but in future this will result in an error. Use `array.size > 0` to check that an array is not empty.\n",
      "  if diff:\n"
     ]
    },
    {
     "name": "stdout",
     "output_type": "stream",
     "text": [
      "[CV]  colsample_bytree=0.5302600882326861, learning_rate=0.130860897017743, max_delta_step=6, max_depth=7, min_child_weight=1, subsample=0.5834576449351039 -   1.6s\n",
      "[CV] colsample_bytree=0.5302600882326861, learning_rate=0.130860897017743, max_delta_step=6, max_depth=7, min_child_weight=1, subsample=0.5834576449351039 \n"
     ]
    },
    {
     "name": "stderr",
     "output_type": "stream",
     "text": [
      "/Users/oi.akihito/.pyenv/versions/3.6.1/lib/python3.6/site-packages/sklearn/preprocessing/label.py:151: DeprecationWarning: The truth value of an empty array is ambiguous. Returning False, but in future this will result in an error. Use `array.size > 0` to check that an array is not empty.\n",
      "  if diff:\n"
     ]
    },
    {
     "name": "stdout",
     "output_type": "stream",
     "text": [
      "[CV]  colsample_bytree=0.5302600882326861, learning_rate=0.130860897017743, max_delta_step=6, max_depth=7, min_child_weight=1, subsample=0.5834576449351039 -   1.6s\n",
      "[CV] colsample_bytree=0.5302600882326861, learning_rate=0.130860897017743, max_delta_step=6, max_depth=7, min_child_weight=1, subsample=0.5834576449351039 \n"
     ]
    },
    {
     "name": "stderr",
     "output_type": "stream",
     "text": [
      "/Users/oi.akihito/.pyenv/versions/3.6.1/lib/python3.6/site-packages/sklearn/preprocessing/label.py:151: DeprecationWarning: The truth value of an empty array is ambiguous. Returning False, but in future this will result in an error. Use `array.size > 0` to check that an array is not empty.\n",
      "  if diff:\n"
     ]
    },
    {
     "name": "stdout",
     "output_type": "stream",
     "text": [
      "[CV]  colsample_bytree=0.5302600882326861, learning_rate=0.130860897017743, max_delta_step=6, max_depth=7, min_child_weight=1, subsample=0.5834576449351039 -   1.8s\n",
      "[CV] colsample_bytree=0.5302600882326861, learning_rate=0.130860897017743, max_delta_step=6, max_depth=7, min_child_weight=1, subsample=0.5834576449351039 \n"
     ]
    },
    {
     "name": "stderr",
     "output_type": "stream",
     "text": [
      "/Users/oi.akihito/.pyenv/versions/3.6.1/lib/python3.6/site-packages/sklearn/preprocessing/label.py:151: DeprecationWarning: The truth value of an empty array is ambiguous. Returning False, but in future this will result in an error. Use `array.size > 0` to check that an array is not empty.\n",
      "  if diff:\n"
     ]
    },
    {
     "name": "stdout",
     "output_type": "stream",
     "text": [
      "[CV]  colsample_bytree=0.5302600882326861, learning_rate=0.130860897017743, max_delta_step=6, max_depth=7, min_child_weight=1, subsample=0.5834576449351039 -   1.6s\n",
      "[CV] colsample_bytree=0.5302600882326861, learning_rate=0.130860897017743, max_delta_step=6, max_depth=7, min_child_weight=1, subsample=0.5834576449351039 \n"
     ]
    },
    {
     "name": "stderr",
     "output_type": "stream",
     "text": [
      "/Users/oi.akihito/.pyenv/versions/3.6.1/lib/python3.6/site-packages/sklearn/preprocessing/label.py:151: DeprecationWarning: The truth value of an empty array is ambiguous. Returning False, but in future this will result in an error. Use `array.size > 0` to check that an array is not empty.\n",
      "  if diff:\n"
     ]
    },
    {
     "name": "stdout",
     "output_type": "stream",
     "text": [
      "[CV]  colsample_bytree=0.5302600882326861, learning_rate=0.130860897017743, max_delta_step=6, max_depth=7, min_child_weight=1, subsample=0.5834576449351039 -   1.5s\n",
      "[CV] colsample_bytree=0.5034348347951377, learning_rate=0.0442524639977468, max_delta_step=4, max_depth=10, min_child_weight=1, subsample=0.7507930718971711 \n"
     ]
    },
    {
     "name": "stderr",
     "output_type": "stream",
     "text": [
      "/Users/oi.akihito/.pyenv/versions/3.6.1/lib/python3.6/site-packages/sklearn/preprocessing/label.py:151: DeprecationWarning: The truth value of an empty array is ambiguous. Returning False, but in future this will result in an error. Use `array.size > 0` to check that an array is not empty.\n",
      "  if diff:\n"
     ]
    },
    {
     "name": "stdout",
     "output_type": "stream",
     "text": [
      "[CV]  colsample_bytree=0.5034348347951377, learning_rate=0.0442524639977468, max_delta_step=4, max_depth=10, min_child_weight=1, subsample=0.7507930718971711 -   2.2s\n",
      "[CV] colsample_bytree=0.5034348347951377, learning_rate=0.0442524639977468, max_delta_step=4, max_depth=10, min_child_weight=1, subsample=0.7507930718971711 \n"
     ]
    },
    {
     "name": "stderr",
     "output_type": "stream",
     "text": [
      "/Users/oi.akihito/.pyenv/versions/3.6.1/lib/python3.6/site-packages/sklearn/preprocessing/label.py:151: DeprecationWarning: The truth value of an empty array is ambiguous. Returning False, but in future this will result in an error. Use `array.size > 0` to check that an array is not empty.\n",
      "  if diff:\n"
     ]
    },
    {
     "name": "stdout",
     "output_type": "stream",
     "text": [
      "[CV]  colsample_bytree=0.5034348347951377, learning_rate=0.0442524639977468, max_delta_step=4, max_depth=10, min_child_weight=1, subsample=0.7507930718971711 -   2.2s\n",
      "[CV] colsample_bytree=0.5034348347951377, learning_rate=0.0442524639977468, max_delta_step=4, max_depth=10, min_child_weight=1, subsample=0.7507930718971711 \n"
     ]
    },
    {
     "name": "stderr",
     "output_type": "stream",
     "text": [
      "/Users/oi.akihito/.pyenv/versions/3.6.1/lib/python3.6/site-packages/sklearn/preprocessing/label.py:151: DeprecationWarning: The truth value of an empty array is ambiguous. Returning False, but in future this will result in an error. Use `array.size > 0` to check that an array is not empty.\n",
      "  if diff:\n"
     ]
    },
    {
     "name": "stdout",
     "output_type": "stream",
     "text": [
      "[CV]  colsample_bytree=0.5034348347951377, learning_rate=0.0442524639977468, max_delta_step=4, max_depth=10, min_child_weight=1, subsample=0.7507930718971711 -   2.1s\n",
      "[CV] colsample_bytree=0.5034348347951377, learning_rate=0.0442524639977468, max_delta_step=4, max_depth=10, min_child_weight=1, subsample=0.7507930718971711 \n"
     ]
    },
    {
     "name": "stderr",
     "output_type": "stream",
     "text": [
      "/Users/oi.akihito/.pyenv/versions/3.6.1/lib/python3.6/site-packages/sklearn/preprocessing/label.py:151: DeprecationWarning: The truth value of an empty array is ambiguous. Returning False, but in future this will result in an error. Use `array.size > 0` to check that an array is not empty.\n",
      "  if diff:\n"
     ]
    },
    {
     "name": "stdout",
     "output_type": "stream",
     "text": [
      "[CV]  colsample_bytree=0.5034348347951377, learning_rate=0.0442524639977468, max_delta_step=4, max_depth=10, min_child_weight=1, subsample=0.7507930718971711 -   2.1s\n",
      "[CV] colsample_bytree=0.5034348347951377, learning_rate=0.0442524639977468, max_delta_step=4, max_depth=10, min_child_weight=1, subsample=0.7507930718971711 \n"
     ]
    },
    {
     "name": "stderr",
     "output_type": "stream",
     "text": [
      "/Users/oi.akihito/.pyenv/versions/3.6.1/lib/python3.6/site-packages/sklearn/preprocessing/label.py:151: DeprecationWarning: The truth value of an empty array is ambiguous. Returning False, but in future this will result in an error. Use `array.size > 0` to check that an array is not empty.\n",
      "  if diff:\n"
     ]
    },
    {
     "name": "stdout",
     "output_type": "stream",
     "text": [
      "[CV]  colsample_bytree=0.5034348347951377, learning_rate=0.0442524639977468, max_delta_step=4, max_depth=10, min_child_weight=1, subsample=0.7507930718971711 -   2.0s\n",
      "[CV] colsample_bytree=0.5126001916503069, learning_rate=0.08324339517124123, max_delta_step=4, max_depth=9, min_child_weight=2, subsample=0.8290848625739184 \n"
     ]
    },
    {
     "name": "stderr",
     "output_type": "stream",
     "text": [
      "/Users/oi.akihito/.pyenv/versions/3.6.1/lib/python3.6/site-packages/sklearn/preprocessing/label.py:151: DeprecationWarning: The truth value of an empty array is ambiguous. Returning False, but in future this will result in an error. Use `array.size > 0` to check that an array is not empty.\n",
      "  if diff:\n"
     ]
    },
    {
     "name": "stdout",
     "output_type": "stream",
     "text": [
      "[CV]  colsample_bytree=0.5126001916503069, learning_rate=0.08324339517124123, max_delta_step=4, max_depth=9, min_child_weight=2, subsample=0.8290848625739184 -   1.9s\n",
      "[CV] colsample_bytree=0.5126001916503069, learning_rate=0.08324339517124123, max_delta_step=4, max_depth=9, min_child_weight=2, subsample=0.8290848625739184 \n"
     ]
    },
    {
     "name": "stderr",
     "output_type": "stream",
     "text": [
      "/Users/oi.akihito/.pyenv/versions/3.6.1/lib/python3.6/site-packages/sklearn/preprocessing/label.py:151: DeprecationWarning: The truth value of an empty array is ambiguous. Returning False, but in future this will result in an error. Use `array.size > 0` to check that an array is not empty.\n",
      "  if diff:\n"
     ]
    },
    {
     "name": "stdout",
     "output_type": "stream",
     "text": [
      "[CV]  colsample_bytree=0.5126001916503069, learning_rate=0.08324339517124123, max_delta_step=4, max_depth=9, min_child_weight=2, subsample=0.8290848625739184 -   1.8s\n",
      "[CV] colsample_bytree=0.5126001916503069, learning_rate=0.08324339517124123, max_delta_step=4, max_depth=9, min_child_weight=2, subsample=0.8290848625739184 \n"
     ]
    },
    {
     "name": "stderr",
     "output_type": "stream",
     "text": [
      "/Users/oi.akihito/.pyenv/versions/3.6.1/lib/python3.6/site-packages/sklearn/preprocessing/label.py:151: DeprecationWarning: The truth value of an empty array is ambiguous. Returning False, but in future this will result in an error. Use `array.size > 0` to check that an array is not empty.\n",
      "  if diff:\n"
     ]
    },
    {
     "name": "stdout",
     "output_type": "stream",
     "text": [
      "[CV]  colsample_bytree=0.5126001916503069, learning_rate=0.08324339517124123, max_delta_step=4, max_depth=9, min_child_weight=2, subsample=0.8290848625739184 -   1.7s\n",
      "[CV] colsample_bytree=0.5126001916503069, learning_rate=0.08324339517124123, max_delta_step=4, max_depth=9, min_child_weight=2, subsample=0.8290848625739184 \n"
     ]
    },
    {
     "name": "stderr",
     "output_type": "stream",
     "text": [
      "/Users/oi.akihito/.pyenv/versions/3.6.1/lib/python3.6/site-packages/sklearn/preprocessing/label.py:151: DeprecationWarning: The truth value of an empty array is ambiguous. Returning False, but in future this will result in an error. Use `array.size > 0` to check that an array is not empty.\n",
      "  if diff:\n"
     ]
    },
    {
     "name": "stdout",
     "output_type": "stream",
     "text": [
      "[CV]  colsample_bytree=0.5126001916503069, learning_rate=0.08324339517124123, max_delta_step=4, max_depth=9, min_child_weight=2, subsample=0.8290848625739184 -   1.8s\n",
      "[CV] colsample_bytree=0.5126001916503069, learning_rate=0.08324339517124123, max_delta_step=4, max_depth=9, min_child_weight=2, subsample=0.8290848625739184 \n"
     ]
    },
    {
     "name": "stderr",
     "output_type": "stream",
     "text": [
      "/Users/oi.akihito/.pyenv/versions/3.6.1/lib/python3.6/site-packages/sklearn/preprocessing/label.py:151: DeprecationWarning: The truth value of an empty array is ambiguous. Returning False, but in future this will result in an error. Use `array.size > 0` to check that an array is not empty.\n",
      "  if diff:\n"
     ]
    },
    {
     "name": "stdout",
     "output_type": "stream",
     "text": [
      "[CV]  colsample_bytree=0.5126001916503069, learning_rate=0.08324339517124123, max_delta_step=4, max_depth=9, min_child_weight=2, subsample=0.8290848625739184 -   1.7s\n",
      "[CV] colsample_bytree=0.9665168936876511, learning_rate=0.052718147258844404, max_delta_step=8, max_depth=7, min_child_weight=4, subsample=0.7477356555571446 \n"
     ]
    },
    {
     "name": "stderr",
     "output_type": "stream",
     "text": [
      "/Users/oi.akihito/.pyenv/versions/3.6.1/lib/python3.6/site-packages/sklearn/preprocessing/label.py:151: DeprecationWarning: The truth value of an empty array is ambiguous. Returning False, but in future this will result in an error. Use `array.size > 0` to check that an array is not empty.\n",
      "  if diff:\n"
     ]
    },
    {
     "name": "stdout",
     "output_type": "stream",
     "text": [
      "[CV]  colsample_bytree=0.9665168936876511, learning_rate=0.052718147258844404, max_delta_step=8, max_depth=7, min_child_weight=4, subsample=0.7477356555571446 -   2.2s\n",
      "[CV] colsample_bytree=0.9665168936876511, learning_rate=0.052718147258844404, max_delta_step=8, max_depth=7, min_child_weight=4, subsample=0.7477356555571446 \n"
     ]
    },
    {
     "name": "stderr",
     "output_type": "stream",
     "text": [
      "/Users/oi.akihito/.pyenv/versions/3.6.1/lib/python3.6/site-packages/sklearn/preprocessing/label.py:151: DeprecationWarning: The truth value of an empty array is ambiguous. Returning False, but in future this will result in an error. Use `array.size > 0` to check that an array is not empty.\n",
      "  if diff:\n"
     ]
    },
    {
     "name": "stdout",
     "output_type": "stream",
     "text": [
      "[CV]  colsample_bytree=0.9665168936876511, learning_rate=0.052718147258844404, max_delta_step=8, max_depth=7, min_child_weight=4, subsample=0.7477356555571446 -   2.2s\n",
      "[CV] colsample_bytree=0.9665168936876511, learning_rate=0.052718147258844404, max_delta_step=8, max_depth=7, min_child_weight=4, subsample=0.7477356555571446 \n"
     ]
    },
    {
     "name": "stderr",
     "output_type": "stream",
     "text": [
      "/Users/oi.akihito/.pyenv/versions/3.6.1/lib/python3.6/site-packages/sklearn/preprocessing/label.py:151: DeprecationWarning: The truth value of an empty array is ambiguous. Returning False, but in future this will result in an error. Use `array.size > 0` to check that an array is not empty.\n",
      "  if diff:\n"
     ]
    },
    {
     "name": "stdout",
     "output_type": "stream",
     "text": [
      "[CV]  colsample_bytree=0.9665168936876511, learning_rate=0.052718147258844404, max_delta_step=8, max_depth=7, min_child_weight=4, subsample=0.7477356555571446 -   2.2s\n",
      "[CV] colsample_bytree=0.9665168936876511, learning_rate=0.052718147258844404, max_delta_step=8, max_depth=7, min_child_weight=4, subsample=0.7477356555571446 \n"
     ]
    },
    {
     "name": "stderr",
     "output_type": "stream",
     "text": [
      "/Users/oi.akihito/.pyenv/versions/3.6.1/lib/python3.6/site-packages/sklearn/preprocessing/label.py:151: DeprecationWarning: The truth value of an empty array is ambiguous. Returning False, but in future this will result in an error. Use `array.size > 0` to check that an array is not empty.\n",
      "  if diff:\n"
     ]
    },
    {
     "name": "stdout",
     "output_type": "stream",
     "text": [
      "[CV]  colsample_bytree=0.9665168936876511, learning_rate=0.052718147258844404, max_delta_step=8, max_depth=7, min_child_weight=4, subsample=0.7477356555571446 -   2.2s\n",
      "[CV] colsample_bytree=0.9665168936876511, learning_rate=0.052718147258844404, max_delta_step=8, max_depth=7, min_child_weight=4, subsample=0.7477356555571446 \n"
     ]
    },
    {
     "name": "stderr",
     "output_type": "stream",
     "text": [
      "/Users/oi.akihito/.pyenv/versions/3.6.1/lib/python3.6/site-packages/sklearn/preprocessing/label.py:151: DeprecationWarning: The truth value of an empty array is ambiguous. Returning False, but in future this will result in an error. Use `array.size > 0` to check that an array is not empty.\n",
      "  if diff:\n"
     ]
    },
    {
     "name": "stdout",
     "output_type": "stream",
     "text": [
      "[CV]  colsample_bytree=0.9665168936876511, learning_rate=0.052718147258844404, max_delta_step=8, max_depth=7, min_child_weight=4, subsample=0.7477356555571446 -   2.2s\n",
      "[CV] colsample_bytree=0.6324235926963218, learning_rate=0.1615684283371806, max_delta_step=2, max_depth=8, min_child_weight=4, subsample=0.7379409933439067 \n"
     ]
    },
    {
     "name": "stderr",
     "output_type": "stream",
     "text": [
      "/Users/oi.akihito/.pyenv/versions/3.6.1/lib/python3.6/site-packages/sklearn/preprocessing/label.py:151: DeprecationWarning: The truth value of an empty array is ambiguous. Returning False, but in future this will result in an error. Use `array.size > 0` to check that an array is not empty.\n",
      "  if diff:\n"
     ]
    },
    {
     "name": "stdout",
     "output_type": "stream",
     "text": [
      "[CV]  colsample_bytree=0.6324235926963218, learning_rate=0.1615684283371806, max_delta_step=2, max_depth=8, min_child_weight=4, subsample=0.7379409933439067 -   2.1s\n",
      "[CV] colsample_bytree=0.6324235926963218, learning_rate=0.1615684283371806, max_delta_step=2, max_depth=8, min_child_weight=4, subsample=0.7379409933439067 \n"
     ]
    },
    {
     "name": "stderr",
     "output_type": "stream",
     "text": [
      "/Users/oi.akihito/.pyenv/versions/3.6.1/lib/python3.6/site-packages/sklearn/preprocessing/label.py:151: DeprecationWarning: The truth value of an empty array is ambiguous. Returning False, but in future this will result in an error. Use `array.size > 0` to check that an array is not empty.\n",
      "  if diff:\n"
     ]
    },
    {
     "name": "stdout",
     "output_type": "stream",
     "text": [
      "[CV]  colsample_bytree=0.6324235926963218, learning_rate=0.1615684283371806, max_delta_step=2, max_depth=8, min_child_weight=4, subsample=0.7379409933439067 -   2.0s\n",
      "[CV] colsample_bytree=0.6324235926963218, learning_rate=0.1615684283371806, max_delta_step=2, max_depth=8, min_child_weight=4, subsample=0.7379409933439067 \n"
     ]
    },
    {
     "name": "stderr",
     "output_type": "stream",
     "text": [
      "/Users/oi.akihito/.pyenv/versions/3.6.1/lib/python3.6/site-packages/sklearn/preprocessing/label.py:151: DeprecationWarning: The truth value of an empty array is ambiguous. Returning False, but in future this will result in an error. Use `array.size > 0` to check that an array is not empty.\n",
      "  if diff:\n"
     ]
    },
    {
     "name": "stdout",
     "output_type": "stream",
     "text": [
      "[CV]  colsample_bytree=0.6324235926963218, learning_rate=0.1615684283371806, max_delta_step=2, max_depth=8, min_child_weight=4, subsample=0.7379409933439067 -   2.0s\n",
      "[CV] colsample_bytree=0.6324235926963218, learning_rate=0.1615684283371806, max_delta_step=2, max_depth=8, min_child_weight=4, subsample=0.7379409933439067 \n"
     ]
    },
    {
     "name": "stderr",
     "output_type": "stream",
     "text": [
      "/Users/oi.akihito/.pyenv/versions/3.6.1/lib/python3.6/site-packages/sklearn/preprocessing/label.py:151: DeprecationWarning: The truth value of an empty array is ambiguous. Returning False, but in future this will result in an error. Use `array.size > 0` to check that an array is not empty.\n",
      "  if diff:\n"
     ]
    },
    {
     "name": "stdout",
     "output_type": "stream",
     "text": [
      "[CV]  colsample_bytree=0.6324235926963218, learning_rate=0.1615684283371806, max_delta_step=2, max_depth=8, min_child_weight=4, subsample=0.7379409933439067 -   1.9s\n",
      "[CV] colsample_bytree=0.6324235926963218, learning_rate=0.1615684283371806, max_delta_step=2, max_depth=8, min_child_weight=4, subsample=0.7379409933439067 \n"
     ]
    },
    {
     "name": "stderr",
     "output_type": "stream",
     "text": [
      "/Users/oi.akihito/.pyenv/versions/3.6.1/lib/python3.6/site-packages/sklearn/preprocessing/label.py:151: DeprecationWarning: The truth value of an empty array is ambiguous. Returning False, but in future this will result in an error. Use `array.size > 0` to check that an array is not empty.\n",
      "  if diff:\n"
     ]
    },
    {
     "name": "stdout",
     "output_type": "stream",
     "text": [
      "[CV]  colsample_bytree=0.6324235926963218, learning_rate=0.1615684283371806, max_delta_step=2, max_depth=8, min_child_weight=4, subsample=0.7379409933439067 -   2.0s\n",
      "[CV] colsample_bytree=0.6704210673039028, learning_rate=0.14117073672049238, max_delta_step=7, max_depth=4, min_child_weight=1, subsample=0.928057364711897 \n"
     ]
    },
    {
     "name": "stderr",
     "output_type": "stream",
     "text": [
      "/Users/oi.akihito/.pyenv/versions/3.6.1/lib/python3.6/site-packages/sklearn/preprocessing/label.py:151: DeprecationWarning: The truth value of an empty array is ambiguous. Returning False, but in future this will result in an error. Use `array.size > 0` to check that an array is not empty.\n",
      "  if diff:\n"
     ]
    },
    {
     "name": "stdout",
     "output_type": "stream",
     "text": [
      "[CV]  colsample_bytree=0.6704210673039028, learning_rate=0.14117073672049238, max_delta_step=7, max_depth=4, min_child_weight=1, subsample=0.928057364711897 -   1.0s\n",
      "[CV] colsample_bytree=0.6704210673039028, learning_rate=0.14117073672049238, max_delta_step=7, max_depth=4, min_child_weight=1, subsample=0.928057364711897 \n"
     ]
    },
    {
     "name": "stderr",
     "output_type": "stream",
     "text": [
      "/Users/oi.akihito/.pyenv/versions/3.6.1/lib/python3.6/site-packages/sklearn/preprocessing/label.py:151: DeprecationWarning: The truth value of an empty array is ambiguous. Returning False, but in future this will result in an error. Use `array.size > 0` to check that an array is not empty.\n",
      "  if diff:\n"
     ]
    },
    {
     "name": "stdout",
     "output_type": "stream",
     "text": [
      "[CV]  colsample_bytree=0.6704210673039028, learning_rate=0.14117073672049238, max_delta_step=7, max_depth=4, min_child_weight=1, subsample=0.928057364711897 -   1.0s\n",
      "[CV] colsample_bytree=0.6704210673039028, learning_rate=0.14117073672049238, max_delta_step=7, max_depth=4, min_child_weight=1, subsample=0.928057364711897 \n"
     ]
    },
    {
     "name": "stderr",
     "output_type": "stream",
     "text": [
      "/Users/oi.akihito/.pyenv/versions/3.6.1/lib/python3.6/site-packages/sklearn/preprocessing/label.py:151: DeprecationWarning: The truth value of an empty array is ambiguous. Returning False, but in future this will result in an error. Use `array.size > 0` to check that an array is not empty.\n",
      "  if diff:\n"
     ]
    },
    {
     "name": "stdout",
     "output_type": "stream",
     "text": [
      "[CV]  colsample_bytree=0.6704210673039028, learning_rate=0.14117073672049238, max_delta_step=7, max_depth=4, min_child_weight=1, subsample=0.928057364711897 -   1.0s\n",
      "[CV] colsample_bytree=0.6704210673039028, learning_rate=0.14117073672049238, max_delta_step=7, max_depth=4, min_child_weight=1, subsample=0.928057364711897 \n"
     ]
    },
    {
     "name": "stderr",
     "output_type": "stream",
     "text": [
      "/Users/oi.akihito/.pyenv/versions/3.6.1/lib/python3.6/site-packages/sklearn/preprocessing/label.py:151: DeprecationWarning: The truth value of an empty array is ambiguous. Returning False, but in future this will result in an error. Use `array.size > 0` to check that an array is not empty.\n",
      "  if diff:\n"
     ]
    },
    {
     "name": "stdout",
     "output_type": "stream",
     "text": [
      "[CV]  colsample_bytree=0.6704210673039028, learning_rate=0.14117073672049238, max_delta_step=7, max_depth=4, min_child_weight=1, subsample=0.928057364711897 -   1.0s\n",
      "[CV] colsample_bytree=0.6704210673039028, learning_rate=0.14117073672049238, max_delta_step=7, max_depth=4, min_child_weight=1, subsample=0.928057364711897 \n"
     ]
    },
    {
     "name": "stderr",
     "output_type": "stream",
     "text": [
      "/Users/oi.akihito/.pyenv/versions/3.6.1/lib/python3.6/site-packages/sklearn/preprocessing/label.py:151: DeprecationWarning: The truth value of an empty array is ambiguous. Returning False, but in future this will result in an error. Use `array.size > 0` to check that an array is not empty.\n",
      "  if diff:\n"
     ]
    },
    {
     "name": "stdout",
     "output_type": "stream",
     "text": [
      "[CV]  colsample_bytree=0.6704210673039028, learning_rate=0.14117073672049238, max_delta_step=7, max_depth=4, min_child_weight=1, subsample=0.928057364711897 -   1.0s\n",
      "[CV] colsample_bytree=0.9922465881838464, learning_rate=0.16082421632588204, max_delta_step=9, max_depth=9, min_child_weight=4, subsample=0.9447182406467995 \n"
     ]
    },
    {
     "name": "stderr",
     "output_type": "stream",
     "text": [
      "/Users/oi.akihito/.pyenv/versions/3.6.1/lib/python3.6/site-packages/sklearn/preprocessing/label.py:151: DeprecationWarning: The truth value of an empty array is ambiguous. Returning False, but in future this will result in an error. Use `array.size > 0` to check that an array is not empty.\n",
      "  if diff:\n"
     ]
    },
    {
     "name": "stdout",
     "output_type": "stream",
     "text": [
      "[CV]  colsample_bytree=0.9922465881838464, learning_rate=0.16082421632588204, max_delta_step=9, max_depth=9, min_child_weight=4, subsample=0.9447182406467995 -   2.6s\n",
      "[CV] colsample_bytree=0.9922465881838464, learning_rate=0.16082421632588204, max_delta_step=9, max_depth=9, min_child_weight=4, subsample=0.9447182406467995 \n"
     ]
    },
    {
     "name": "stderr",
     "output_type": "stream",
     "text": [
      "/Users/oi.akihito/.pyenv/versions/3.6.1/lib/python3.6/site-packages/sklearn/preprocessing/label.py:151: DeprecationWarning: The truth value of an empty array is ambiguous. Returning False, but in future this will result in an error. Use `array.size > 0` to check that an array is not empty.\n",
      "  if diff:\n"
     ]
    },
    {
     "name": "stdout",
     "output_type": "stream",
     "text": [
      "[CV]  colsample_bytree=0.9922465881838464, learning_rate=0.16082421632588204, max_delta_step=9, max_depth=9, min_child_weight=4, subsample=0.9447182406467995 -   2.8s\n",
      "[CV] colsample_bytree=0.9922465881838464, learning_rate=0.16082421632588204, max_delta_step=9, max_depth=9, min_child_weight=4, subsample=0.9447182406467995 \n"
     ]
    },
    {
     "name": "stderr",
     "output_type": "stream",
     "text": [
      "/Users/oi.akihito/.pyenv/versions/3.6.1/lib/python3.6/site-packages/sklearn/preprocessing/label.py:151: DeprecationWarning: The truth value of an empty array is ambiguous. Returning False, but in future this will result in an error. Use `array.size > 0` to check that an array is not empty.\n",
      "  if diff:\n"
     ]
    },
    {
     "name": "stdout",
     "output_type": "stream",
     "text": [
      "[CV]  colsample_bytree=0.9922465881838464, learning_rate=0.16082421632588204, max_delta_step=9, max_depth=9, min_child_weight=4, subsample=0.9447182406467995 -   2.8s\n",
      "[CV] colsample_bytree=0.9922465881838464, learning_rate=0.16082421632588204, max_delta_step=9, max_depth=9, min_child_weight=4, subsample=0.9447182406467995 \n"
     ]
    },
    {
     "name": "stderr",
     "output_type": "stream",
     "text": [
      "/Users/oi.akihito/.pyenv/versions/3.6.1/lib/python3.6/site-packages/sklearn/preprocessing/label.py:151: DeprecationWarning: The truth value of an empty array is ambiguous. Returning False, but in future this will result in an error. Use `array.size > 0` to check that an array is not empty.\n",
      "  if diff:\n"
     ]
    },
    {
     "name": "stdout",
     "output_type": "stream",
     "text": [
      "[CV]  colsample_bytree=0.9922465881838464, learning_rate=0.16082421632588204, max_delta_step=9, max_depth=9, min_child_weight=4, subsample=0.9447182406467995 -   2.6s\n",
      "[CV] colsample_bytree=0.9922465881838464, learning_rate=0.16082421632588204, max_delta_step=9, max_depth=9, min_child_weight=4, subsample=0.9447182406467995 \n"
     ]
    },
    {
     "name": "stderr",
     "output_type": "stream",
     "text": [
      "/Users/oi.akihito/.pyenv/versions/3.6.1/lib/python3.6/site-packages/sklearn/preprocessing/label.py:151: DeprecationWarning: The truth value of an empty array is ambiguous. Returning False, but in future this will result in an error. Use `array.size > 0` to check that an array is not empty.\n",
      "  if diff:\n"
     ]
    },
    {
     "name": "stdout",
     "output_type": "stream",
     "text": [
      "[CV]  colsample_bytree=0.9922465881838464, learning_rate=0.16082421632588204, max_delta_step=9, max_depth=9, min_child_weight=4, subsample=0.9447182406467995 -   2.5s\n",
      "[CV] colsample_bytree=0.7708874782442028, learning_rate=0.13866497227268235, max_delta_step=5, max_depth=6, min_child_weight=1, subsample=0.8916413712789661 \n"
     ]
    },
    {
     "name": "stderr",
     "output_type": "stream",
     "text": [
      "/Users/oi.akihito/.pyenv/versions/3.6.1/lib/python3.6/site-packages/sklearn/preprocessing/label.py:151: DeprecationWarning: The truth value of an empty array is ambiguous. Returning False, but in future this will result in an error. Use `array.size > 0` to check that an array is not empty.\n",
      "  if diff:\n"
     ]
    },
    {
     "name": "stdout",
     "output_type": "stream",
     "text": [
      "[CV]  colsample_bytree=0.7708874782442028, learning_rate=0.13866497227268235, max_delta_step=5, max_depth=6, min_child_weight=1, subsample=0.8916413712789661 -   1.6s\n",
      "[CV] colsample_bytree=0.7708874782442028, learning_rate=0.13866497227268235, max_delta_step=5, max_depth=6, min_child_weight=1, subsample=0.8916413712789661 \n"
     ]
    },
    {
     "name": "stderr",
     "output_type": "stream",
     "text": [
      "/Users/oi.akihito/.pyenv/versions/3.6.1/lib/python3.6/site-packages/sklearn/preprocessing/label.py:151: DeprecationWarning: The truth value of an empty array is ambiguous. Returning False, but in future this will result in an error. Use `array.size > 0` to check that an array is not empty.\n",
      "  if diff:\n"
     ]
    },
    {
     "name": "stdout",
     "output_type": "stream",
     "text": [
      "[CV]  colsample_bytree=0.7708874782442028, learning_rate=0.13866497227268235, max_delta_step=5, max_depth=6, min_child_weight=1, subsample=0.8916413712789661 -   1.5s\n",
      "[CV] colsample_bytree=0.7708874782442028, learning_rate=0.13866497227268235, max_delta_step=5, max_depth=6, min_child_weight=1, subsample=0.8916413712789661 \n"
     ]
    },
    {
     "name": "stderr",
     "output_type": "stream",
     "text": [
      "/Users/oi.akihito/.pyenv/versions/3.6.1/lib/python3.6/site-packages/sklearn/preprocessing/label.py:151: DeprecationWarning: The truth value of an empty array is ambiguous. Returning False, but in future this will result in an error. Use `array.size > 0` to check that an array is not empty.\n",
      "  if diff:\n"
     ]
    },
    {
     "name": "stdout",
     "output_type": "stream",
     "text": [
      "[CV]  colsample_bytree=0.7708874782442028, learning_rate=0.13866497227268235, max_delta_step=5, max_depth=6, min_child_weight=1, subsample=0.8916413712789661 -   1.5s\n",
      "[CV] colsample_bytree=0.7708874782442028, learning_rate=0.13866497227268235, max_delta_step=5, max_depth=6, min_child_weight=1, subsample=0.8916413712789661 \n"
     ]
    },
    {
     "name": "stderr",
     "output_type": "stream",
     "text": [
      "/Users/oi.akihito/.pyenv/versions/3.6.1/lib/python3.6/site-packages/sklearn/preprocessing/label.py:151: DeprecationWarning: The truth value of an empty array is ambiguous. Returning False, but in future this will result in an error. Use `array.size > 0` to check that an array is not empty.\n",
      "  if diff:\n"
     ]
    },
    {
     "name": "stdout",
     "output_type": "stream",
     "text": [
      "[CV]  colsample_bytree=0.7708874782442028, learning_rate=0.13866497227268235, max_delta_step=5, max_depth=6, min_child_weight=1, subsample=0.8916413712789661 -   1.5s\n",
      "[CV] colsample_bytree=0.7708874782442028, learning_rate=0.13866497227268235, max_delta_step=5, max_depth=6, min_child_weight=1, subsample=0.8916413712789661 \n"
     ]
    },
    {
     "name": "stderr",
     "output_type": "stream",
     "text": [
      "/Users/oi.akihito/.pyenv/versions/3.6.1/lib/python3.6/site-packages/sklearn/preprocessing/label.py:151: DeprecationWarning: The truth value of an empty array is ambiguous. Returning False, but in future this will result in an error. Use `array.size > 0` to check that an array is not empty.\n",
      "  if diff:\n"
     ]
    },
    {
     "name": "stdout",
     "output_type": "stream",
     "text": [
      "[CV]  colsample_bytree=0.7708874782442028, learning_rate=0.13866497227268235, max_delta_step=5, max_depth=6, min_child_weight=1, subsample=0.8916413712789661 -   1.5s\n",
      "[CV] colsample_bytree=0.7729714050178695, learning_rate=0.024661188676152718, max_delta_step=2, max_depth=4, min_child_weight=2, subsample=0.8952294273471346 \n"
     ]
    },
    {
     "name": "stderr",
     "output_type": "stream",
     "text": [
      "/Users/oi.akihito/.pyenv/versions/3.6.1/lib/python3.6/site-packages/sklearn/preprocessing/label.py:151: DeprecationWarning: The truth value of an empty array is ambiguous. Returning False, but in future this will result in an error. Use `array.size > 0` to check that an array is not empty.\n",
      "  if diff:\n",
      "/Users/oi.akihito/.pyenv/versions/3.6.1/lib/python3.6/site-packages/sklearn/metrics/classification.py:1135: UndefinedMetricWarning: F-score is ill-defined and being set to 0.0 due to no predicted samples.\n",
      "  'precision', 'predicted', average, warn_for)\n"
     ]
    },
    {
     "name": "stdout",
     "output_type": "stream",
     "text": [
      "[CV]  colsample_bytree=0.7729714050178695, learning_rate=0.024661188676152718, max_delta_step=2, max_depth=4, min_child_weight=2, subsample=0.8952294273471346 -   1.1s\n",
      "[CV] colsample_bytree=0.7729714050178695, learning_rate=0.024661188676152718, max_delta_step=2, max_depth=4, min_child_weight=2, subsample=0.8952294273471346 \n"
     ]
    },
    {
     "name": "stderr",
     "output_type": "stream",
     "text": [
      "/Users/oi.akihito/.pyenv/versions/3.6.1/lib/python3.6/site-packages/sklearn/preprocessing/label.py:151: DeprecationWarning: The truth value of an empty array is ambiguous. Returning False, but in future this will result in an error. Use `array.size > 0` to check that an array is not empty.\n",
      "  if diff:\n",
      "/Users/oi.akihito/.pyenv/versions/3.6.1/lib/python3.6/site-packages/sklearn/metrics/classification.py:1135: UndefinedMetricWarning: F-score is ill-defined and being set to 0.0 due to no predicted samples.\n",
      "  'precision', 'predicted', average, warn_for)\n"
     ]
    },
    {
     "name": "stdout",
     "output_type": "stream",
     "text": [
      "[CV]  colsample_bytree=0.7729714050178695, learning_rate=0.024661188676152718, max_delta_step=2, max_depth=4, min_child_weight=2, subsample=0.8952294273471346 -   1.1s\n",
      "[CV] colsample_bytree=0.7729714050178695, learning_rate=0.024661188676152718, max_delta_step=2, max_depth=4, min_child_weight=2, subsample=0.8952294273471346 \n"
     ]
    },
    {
     "name": "stderr",
     "output_type": "stream",
     "text": [
      "/Users/oi.akihito/.pyenv/versions/3.6.1/lib/python3.6/site-packages/sklearn/preprocessing/label.py:151: DeprecationWarning: The truth value of an empty array is ambiguous. Returning False, but in future this will result in an error. Use `array.size > 0` to check that an array is not empty.\n",
      "  if diff:\n",
      "/Users/oi.akihito/.pyenv/versions/3.6.1/lib/python3.6/site-packages/sklearn/metrics/classification.py:1135: UndefinedMetricWarning: F-score is ill-defined and being set to 0.0 due to no predicted samples.\n",
      "  'precision', 'predicted', average, warn_for)\n"
     ]
    },
    {
     "name": "stdout",
     "output_type": "stream",
     "text": [
      "[CV]  colsample_bytree=0.7729714050178695, learning_rate=0.024661188676152718, max_delta_step=2, max_depth=4, min_child_weight=2, subsample=0.8952294273471346 -   1.1s\n",
      "[CV] colsample_bytree=0.7729714050178695, learning_rate=0.024661188676152718, max_delta_step=2, max_depth=4, min_child_weight=2, subsample=0.8952294273471346 \n"
     ]
    },
    {
     "name": "stderr",
     "output_type": "stream",
     "text": [
      "/Users/oi.akihito/.pyenv/versions/3.6.1/lib/python3.6/site-packages/sklearn/preprocessing/label.py:151: DeprecationWarning: The truth value of an empty array is ambiguous. Returning False, but in future this will result in an error. Use `array.size > 0` to check that an array is not empty.\n",
      "  if diff:\n",
      "/Users/oi.akihito/.pyenv/versions/3.6.1/lib/python3.6/site-packages/sklearn/metrics/classification.py:1135: UndefinedMetricWarning: F-score is ill-defined and being set to 0.0 due to no predicted samples.\n",
      "  'precision', 'predicted', average, warn_for)\n"
     ]
    },
    {
     "name": "stdout",
     "output_type": "stream",
     "text": [
      "[CV]  colsample_bytree=0.7729714050178695, learning_rate=0.024661188676152718, max_delta_step=2, max_depth=4, min_child_weight=2, subsample=0.8952294273471346 -   1.1s\n",
      "[CV] colsample_bytree=0.7729714050178695, learning_rate=0.024661188676152718, max_delta_step=2, max_depth=4, min_child_weight=2, subsample=0.8952294273471346 \n"
     ]
    },
    {
     "name": "stderr",
     "output_type": "stream",
     "text": [
      "/Users/oi.akihito/.pyenv/versions/3.6.1/lib/python3.6/site-packages/sklearn/preprocessing/label.py:151: DeprecationWarning: The truth value of an empty array is ambiguous. Returning False, but in future this will result in an error. Use `array.size > 0` to check that an array is not empty.\n",
      "  if diff:\n",
      "/Users/oi.akihito/.pyenv/versions/3.6.1/lib/python3.6/site-packages/sklearn/metrics/classification.py:1135: UndefinedMetricWarning: F-score is ill-defined and being set to 0.0 due to no predicted samples.\n",
      "  'precision', 'predicted', average, warn_for)\n"
     ]
    },
    {
     "name": "stdout",
     "output_type": "stream",
     "text": [
      "[CV]  colsample_bytree=0.7729714050178695, learning_rate=0.024661188676152718, max_delta_step=2, max_depth=4, min_child_weight=2, subsample=0.8952294273471346 -   1.1s\n",
      "[CV] colsample_bytree=0.9215840535544177, learning_rate=0.17347219549219153, max_delta_step=2, max_depth=4, min_child_weight=4, subsample=0.7758389205715923 \n"
     ]
    },
    {
     "name": "stderr",
     "output_type": "stream",
     "text": [
      "/Users/oi.akihito/.pyenv/versions/3.6.1/lib/python3.6/site-packages/sklearn/preprocessing/label.py:151: DeprecationWarning: The truth value of an empty array is ambiguous. Returning False, but in future this will result in an error. Use `array.size > 0` to check that an array is not empty.\n",
      "  if diff:\n"
     ]
    },
    {
     "name": "stdout",
     "output_type": "stream",
     "text": [
      "[CV]  colsample_bytree=0.9215840535544177, learning_rate=0.17347219549219153, max_delta_step=2, max_depth=4, min_child_weight=4, subsample=0.7758389205715923 -   1.2s\n",
      "[CV] colsample_bytree=0.9215840535544177, learning_rate=0.17347219549219153, max_delta_step=2, max_depth=4, min_child_weight=4, subsample=0.7758389205715923 \n"
     ]
    },
    {
     "name": "stderr",
     "output_type": "stream",
     "text": [
      "/Users/oi.akihito/.pyenv/versions/3.6.1/lib/python3.6/site-packages/sklearn/preprocessing/label.py:151: DeprecationWarning: The truth value of an empty array is ambiguous. Returning False, but in future this will result in an error. Use `array.size > 0` to check that an array is not empty.\n",
      "  if diff:\n"
     ]
    },
    {
     "name": "stdout",
     "output_type": "stream",
     "text": [
      "[CV]  colsample_bytree=0.9215840535544177, learning_rate=0.17347219549219153, max_delta_step=2, max_depth=4, min_child_weight=4, subsample=0.7758389205715923 -   1.2s\n",
      "[CV] colsample_bytree=0.9215840535544177, learning_rate=0.17347219549219153, max_delta_step=2, max_depth=4, min_child_weight=4, subsample=0.7758389205715923 \n"
     ]
    },
    {
     "name": "stderr",
     "output_type": "stream",
     "text": [
      "/Users/oi.akihito/.pyenv/versions/3.6.1/lib/python3.6/site-packages/sklearn/preprocessing/label.py:151: DeprecationWarning: The truth value of an empty array is ambiguous. Returning False, but in future this will result in an error. Use `array.size > 0` to check that an array is not empty.\n",
      "  if diff:\n"
     ]
    },
    {
     "name": "stdout",
     "output_type": "stream",
     "text": [
      "[CV]  colsample_bytree=0.9215840535544177, learning_rate=0.17347219549219153, max_delta_step=2, max_depth=4, min_child_weight=4, subsample=0.7758389205715923 -   1.2s\n",
      "[CV] colsample_bytree=0.9215840535544177, learning_rate=0.17347219549219153, max_delta_step=2, max_depth=4, min_child_weight=4, subsample=0.7758389205715923 \n"
     ]
    },
    {
     "name": "stderr",
     "output_type": "stream",
     "text": [
      "/Users/oi.akihito/.pyenv/versions/3.6.1/lib/python3.6/site-packages/sklearn/preprocessing/label.py:151: DeprecationWarning: The truth value of an empty array is ambiguous. Returning False, but in future this will result in an error. Use `array.size > 0` to check that an array is not empty.\n",
      "  if diff:\n"
     ]
    },
    {
     "name": "stdout",
     "output_type": "stream",
     "text": [
      "[CV]  colsample_bytree=0.9215840535544177, learning_rate=0.17347219549219153, max_delta_step=2, max_depth=4, min_child_weight=4, subsample=0.7758389205715923 -   1.2s\n",
      "[CV] colsample_bytree=0.9215840535544177, learning_rate=0.17347219549219153, max_delta_step=2, max_depth=4, min_child_weight=4, subsample=0.7758389205715923 \n"
     ]
    },
    {
     "name": "stderr",
     "output_type": "stream",
     "text": [
      "/Users/oi.akihito/.pyenv/versions/3.6.1/lib/python3.6/site-packages/sklearn/preprocessing/label.py:151: DeprecationWarning: The truth value of an empty array is ambiguous. Returning False, but in future this will result in an error. Use `array.size > 0` to check that an array is not empty.\n",
      "  if diff:\n"
     ]
    },
    {
     "name": "stdout",
     "output_type": "stream",
     "text": [
      "[CV]  colsample_bytree=0.9215840535544177, learning_rate=0.17347219549219153, max_delta_step=2, max_depth=4, min_child_weight=4, subsample=0.7758389205715923 -   1.2s\n",
      "[CV] colsample_bytree=0.731184274831868, learning_rate=0.14842582537095997, max_delta_step=4, max_depth=3, min_child_weight=2, subsample=0.908129252563964 \n"
     ]
    },
    {
     "name": "stderr",
     "output_type": "stream",
     "text": [
      "/Users/oi.akihito/.pyenv/versions/3.6.1/lib/python3.6/site-packages/sklearn/preprocessing/label.py:151: DeprecationWarning: The truth value of an empty array is ambiguous. Returning False, but in future this will result in an error. Use `array.size > 0` to check that an array is not empty.\n",
      "  if diff:\n"
     ]
    },
    {
     "name": "stdout",
     "output_type": "stream",
     "text": [
      "[CV]  colsample_bytree=0.731184274831868, learning_rate=0.14842582537095997, max_delta_step=4, max_depth=3, min_child_weight=2, subsample=0.908129252563964 -   0.8s\n",
      "[CV] colsample_bytree=0.731184274831868, learning_rate=0.14842582537095997, max_delta_step=4, max_depth=3, min_child_weight=2, subsample=0.908129252563964 \n"
     ]
    },
    {
     "name": "stderr",
     "output_type": "stream",
     "text": [
      "/Users/oi.akihito/.pyenv/versions/3.6.1/lib/python3.6/site-packages/sklearn/preprocessing/label.py:151: DeprecationWarning: The truth value of an empty array is ambiguous. Returning False, but in future this will result in an error. Use `array.size > 0` to check that an array is not empty.\n",
      "  if diff:\n"
     ]
    },
    {
     "name": "stdout",
     "output_type": "stream",
     "text": [
      "[CV]  colsample_bytree=0.731184274831868, learning_rate=0.14842582537095997, max_delta_step=4, max_depth=3, min_child_weight=2, subsample=0.908129252563964 -   0.8s\n",
      "[CV] colsample_bytree=0.731184274831868, learning_rate=0.14842582537095997, max_delta_step=4, max_depth=3, min_child_weight=2, subsample=0.908129252563964 \n"
     ]
    },
    {
     "name": "stderr",
     "output_type": "stream",
     "text": [
      "/Users/oi.akihito/.pyenv/versions/3.6.1/lib/python3.6/site-packages/sklearn/preprocessing/label.py:151: DeprecationWarning: The truth value of an empty array is ambiguous. Returning False, but in future this will result in an error. Use `array.size > 0` to check that an array is not empty.\n",
      "  if diff:\n"
     ]
    },
    {
     "name": "stdout",
     "output_type": "stream",
     "text": [
      "[CV]  colsample_bytree=0.731184274831868, learning_rate=0.14842582537095997, max_delta_step=4, max_depth=3, min_child_weight=2, subsample=0.908129252563964 -   0.8s\n",
      "[CV] colsample_bytree=0.731184274831868, learning_rate=0.14842582537095997, max_delta_step=4, max_depth=3, min_child_weight=2, subsample=0.908129252563964 \n"
     ]
    },
    {
     "name": "stderr",
     "output_type": "stream",
     "text": [
      "/Users/oi.akihito/.pyenv/versions/3.6.1/lib/python3.6/site-packages/sklearn/preprocessing/label.py:151: DeprecationWarning: The truth value of an empty array is ambiguous. Returning False, but in future this will result in an error. Use `array.size > 0` to check that an array is not empty.\n",
      "  if diff:\n"
     ]
    },
    {
     "name": "stdout",
     "output_type": "stream",
     "text": [
      "[CV]  colsample_bytree=0.731184274831868, learning_rate=0.14842582537095997, max_delta_step=4, max_depth=3, min_child_weight=2, subsample=0.908129252563964 -   1.0s\n",
      "[CV] colsample_bytree=0.731184274831868, learning_rate=0.14842582537095997, max_delta_step=4, max_depth=3, min_child_weight=2, subsample=0.908129252563964 \n"
     ]
    },
    {
     "name": "stderr",
     "output_type": "stream",
     "text": [
      "/Users/oi.akihito/.pyenv/versions/3.6.1/lib/python3.6/site-packages/sklearn/preprocessing/label.py:151: DeprecationWarning: The truth value of an empty array is ambiguous. Returning False, but in future this will result in an error. Use `array.size > 0` to check that an array is not empty.\n",
      "  if diff:\n"
     ]
    },
    {
     "name": "stdout",
     "output_type": "stream",
     "text": [
      "[CV]  colsample_bytree=0.731184274831868, learning_rate=0.14842582537095997, max_delta_step=4, max_depth=3, min_child_weight=2, subsample=0.908129252563964 -   1.1s\n",
      "[CV] colsample_bytree=0.615049990384221, learning_rate=0.17818965175740337, max_delta_step=10, max_depth=9, min_child_weight=4, subsample=0.9051953589426873 \n"
     ]
    },
    {
     "name": "stderr",
     "output_type": "stream",
     "text": [
      "/Users/oi.akihito/.pyenv/versions/3.6.1/lib/python3.6/site-packages/sklearn/preprocessing/label.py:151: DeprecationWarning: The truth value of an empty array is ambiguous. Returning False, but in future this will result in an error. Use `array.size > 0` to check that an array is not empty.\n",
      "  if diff:\n"
     ]
    },
    {
     "name": "stdout",
     "output_type": "stream",
     "text": [
      "[CV]  colsample_bytree=0.615049990384221, learning_rate=0.17818965175740337, max_delta_step=10, max_depth=9, min_child_weight=4, subsample=0.9051953589426873 -   2.5s\n",
      "[CV] colsample_bytree=0.615049990384221, learning_rate=0.17818965175740337, max_delta_step=10, max_depth=9, min_child_weight=4, subsample=0.9051953589426873 \n"
     ]
    },
    {
     "name": "stderr",
     "output_type": "stream",
     "text": [
      "/Users/oi.akihito/.pyenv/versions/3.6.1/lib/python3.6/site-packages/sklearn/preprocessing/label.py:151: DeprecationWarning: The truth value of an empty array is ambiguous. Returning False, but in future this will result in an error. Use `array.size > 0` to check that an array is not empty.\n",
      "  if diff:\n"
     ]
    },
    {
     "name": "stdout",
     "output_type": "stream",
     "text": [
      "[CV]  colsample_bytree=0.615049990384221, learning_rate=0.17818965175740337, max_delta_step=10, max_depth=9, min_child_weight=4, subsample=0.9051953589426873 -   2.3s\n",
      "[CV] colsample_bytree=0.615049990384221, learning_rate=0.17818965175740337, max_delta_step=10, max_depth=9, min_child_weight=4, subsample=0.9051953589426873 \n"
     ]
    },
    {
     "name": "stderr",
     "output_type": "stream",
     "text": [
      "/Users/oi.akihito/.pyenv/versions/3.6.1/lib/python3.6/site-packages/sklearn/preprocessing/label.py:151: DeprecationWarning: The truth value of an empty array is ambiguous. Returning False, but in future this will result in an error. Use `array.size > 0` to check that an array is not empty.\n",
      "  if diff:\n"
     ]
    },
    {
     "name": "stdout",
     "output_type": "stream",
     "text": [
      "[CV]  colsample_bytree=0.615049990384221, learning_rate=0.17818965175740337, max_delta_step=10, max_depth=9, min_child_weight=4, subsample=0.9051953589426873 -   2.2s\n",
      "[CV] colsample_bytree=0.615049990384221, learning_rate=0.17818965175740337, max_delta_step=10, max_depth=9, min_child_weight=4, subsample=0.9051953589426873 \n"
     ]
    },
    {
     "name": "stderr",
     "output_type": "stream",
     "text": [
      "/Users/oi.akihito/.pyenv/versions/3.6.1/lib/python3.6/site-packages/sklearn/preprocessing/label.py:151: DeprecationWarning: The truth value of an empty array is ambiguous. Returning False, but in future this will result in an error. Use `array.size > 0` to check that an array is not empty.\n",
      "  if diff:\n"
     ]
    },
    {
     "name": "stdout",
     "output_type": "stream",
     "text": [
      "[CV]  colsample_bytree=0.615049990384221, learning_rate=0.17818965175740337, max_delta_step=10, max_depth=9, min_child_weight=4, subsample=0.9051953589426873 -   2.5s\n",
      "[CV] colsample_bytree=0.615049990384221, learning_rate=0.17818965175740337, max_delta_step=10, max_depth=9, min_child_weight=4, subsample=0.9051953589426873 \n"
     ]
    },
    {
     "name": "stderr",
     "output_type": "stream",
     "text": [
      "/Users/oi.akihito/.pyenv/versions/3.6.1/lib/python3.6/site-packages/sklearn/preprocessing/label.py:151: DeprecationWarning: The truth value of an empty array is ambiguous. Returning False, but in future this will result in an error. Use `array.size > 0` to check that an array is not empty.\n",
      "  if diff:\n"
     ]
    },
    {
     "name": "stdout",
     "output_type": "stream",
     "text": [
      "[CV]  colsample_bytree=0.615049990384221, learning_rate=0.17818965175740337, max_delta_step=10, max_depth=9, min_child_weight=4, subsample=0.9051953589426873 -   2.8s\n",
      "[CV] colsample_bytree=0.5203174362405896, learning_rate=0.06650735904503156, max_delta_step=2, max_depth=5, min_child_weight=4, subsample=0.8479193470681484 \n"
     ]
    },
    {
     "name": "stderr",
     "output_type": "stream",
     "text": [
      "/Users/oi.akihito/.pyenv/versions/3.6.1/lib/python3.6/site-packages/sklearn/preprocessing/label.py:151: DeprecationWarning: The truth value of an empty array is ambiguous. Returning False, but in future this will result in an error. Use `array.size > 0` to check that an array is not empty.\n",
      "  if diff:\n"
     ]
    },
    {
     "name": "stdout",
     "output_type": "stream",
     "text": [
      "[CV]  colsample_bytree=0.5203174362405896, learning_rate=0.06650735904503156, max_delta_step=2, max_depth=5, min_child_weight=4, subsample=0.8479193470681484 -   1.3s\n",
      "[CV] colsample_bytree=0.5203174362405896, learning_rate=0.06650735904503156, max_delta_step=2, max_depth=5, min_child_weight=4, subsample=0.8479193470681484 \n"
     ]
    },
    {
     "name": "stderr",
     "output_type": "stream",
     "text": [
      "/Users/oi.akihito/.pyenv/versions/3.6.1/lib/python3.6/site-packages/sklearn/preprocessing/label.py:151: DeprecationWarning: The truth value of an empty array is ambiguous. Returning False, but in future this will result in an error. Use `array.size > 0` to check that an array is not empty.\n",
      "  if diff:\n"
     ]
    },
    {
     "name": "stdout",
     "output_type": "stream",
     "text": [
      "[CV]  colsample_bytree=0.5203174362405896, learning_rate=0.06650735904503156, max_delta_step=2, max_depth=5, min_child_weight=4, subsample=0.8479193470681484 -   1.6s\n",
      "[CV] colsample_bytree=0.5203174362405896, learning_rate=0.06650735904503156, max_delta_step=2, max_depth=5, min_child_weight=4, subsample=0.8479193470681484 \n"
     ]
    },
    {
     "name": "stderr",
     "output_type": "stream",
     "text": [
      "/Users/oi.akihito/.pyenv/versions/3.6.1/lib/python3.6/site-packages/sklearn/preprocessing/label.py:151: DeprecationWarning: The truth value of an empty array is ambiguous. Returning False, but in future this will result in an error. Use `array.size > 0` to check that an array is not empty.\n",
      "  if diff:\n"
     ]
    },
    {
     "name": "stdout",
     "output_type": "stream",
     "text": [
      "[CV]  colsample_bytree=0.5203174362405896, learning_rate=0.06650735904503156, max_delta_step=2, max_depth=5, min_child_weight=4, subsample=0.8479193470681484 -   1.6s\n",
      "[CV] colsample_bytree=0.5203174362405896, learning_rate=0.06650735904503156, max_delta_step=2, max_depth=5, min_child_weight=4, subsample=0.8479193470681484 \n"
     ]
    }
   ],
   "source": [
    "cv.fit(X_train, y_train)"
   ]
  },
  {
   "cell_type": "code",
   "execution_count": 49,
   "metadata": {},
   "outputs": [
    {
     "data": {
      "text/plain": [
       "XGBClassifier(base_score=0.5, colsample_bylevel=1,\n",
       "       colsample_bytree=0.5397273511492011, gamma=0, learning_rate=0.1,\n",
       "       max_delta_step=2, max_depth=9, min_child_weight=4, missing=None,\n",
       "       n_estimators=100, nthread=-1, objective='binary:logistic',\n",
       "       reg_alpha=0, reg_lambda=1, scale_pos_weight=1, seed=0, silent=True,\n",
       "       subsample=0.6922762205492881)"
      ]
     },
     "execution_count": 49,
     "metadata": {},
     "output_type": "execute_result"
    }
   ],
   "source": [
    "cv.best_estimator_"
   ]
  },
  {
   "cell_type": "code",
   "execution_count": 43,
   "metadata": {},
   "outputs": [
    {
     "name": "stdout",
     "output_type": "stream",
     "text": [
      "[[21994   158]\n",
      " [ 5322   158]]\n",
      "0.05452035886818495\n"
     ]
    },
    {
     "name": "stderr",
     "output_type": "stream",
     "text": [
      "/Users/oi.akihito/.pyenv/versions/3.6.1/lib/python3.6/site-packages/sklearn/preprocessing/label.py:151: DeprecationWarning: The truth value of an empty array is ambiguous. Returning False, but in future this will result in an error. Use `array.size > 0` to check that an array is not empty.\n",
      "  if diff:\n",
      "/Users/oi.akihito/.pyenv/versions/3.6.1/lib/python3.6/site-packages/sklearn/preprocessing/label.py:151: DeprecationWarning: The truth value of an empty array is ambiguous. Returning False, but in future this will result in an error. Use `array.size > 0` to check that an array is not empty.\n",
      "  if diff:\n"
     ]
    }
   ],
   "source": [
    "print(confusion_matrix(y_test, cv.predict(X_test)))\n",
    "print(f1_score(y_test, cv.predict(X_test)))"
   ]
  },
  {
   "cell_type": "markdown",
   "metadata": {},
   "source": [
    "まあマシにはなった感じはする"
   ]
  },
  {
   "cell_type": "markdown",
   "metadata": {},
   "source": [
    "## 番外: Random_Forestでやってみる"
   ]
  },
  {
   "cell_type": "code",
   "execution_count": 44,
   "metadata": {
    "scrolled": true
   },
   "outputs": [
    {
     "data": {
      "text/plain": [
       "RandomForestClassifier(bootstrap=True, class_weight=None, criterion='gini',\n",
       "            max_depth=None, max_features='auto', max_leaf_nodes=None,\n",
       "            min_impurity_decrease=0.0, min_impurity_split=None,\n",
       "            min_samples_leaf=1, min_samples_split=2,\n",
       "            min_weight_fraction_leaf=0.0, n_estimators=10, n_jobs=2,\n",
       "            oob_score=False, random_state=None, verbose=0,\n",
       "            warm_start=False)"
      ]
     },
     "execution_count": 44,
     "metadata": {},
     "output_type": "execute_result"
    }
   ],
   "source": [
    "from sklearn.ensemble import RandomForestClassifier\n",
    "model = RandomForestClassifier(n_jobs=2)\n",
    "model.fit(X_train, y_train)"
   ]
  },
  {
   "cell_type": "code",
   "execution_count": 45,
   "metadata": {},
   "outputs": [
    {
     "name": "stdout",
     "output_type": "stream",
     "text": [
      "0.9010314252970626\n",
      "0.7591198610306891\n",
      "[[19737  2415]\n",
      " [ 4241  1239]]\n",
      "0.2712940661265601\n"
     ]
    }
   ],
   "source": [
    "print(model.score(X_train, y_train))\n",
    "print(model.score(X_test, y_test))\n",
    "print(confusion_matrix(y_test, model.predict(X_test)))\n",
    "print(f1_score(y_test, model.predict(X_test)))"
   ]
  },
  {
   "cell_type": "markdown",
   "metadata": {},
   "source": [
    "これでよくないか？？？"
   ]
  }
 ],
 "metadata": {
  "kernelspec": {
   "display_name": "Python 3",
   "language": "python",
   "name": "python3"
  },
  "language_info": {
   "codemirror_mode": {
    "name": "ipython",
    "version": 3
   },
   "file_extension": ".py",
   "mimetype": "text/x-python",
   "name": "python",
   "nbconvert_exporter": "python",
   "pygments_lexer": "ipython3",
   "version": "3.6.1"
  }
 },
 "nbformat": 4,
 "nbformat_minor": 2
}
